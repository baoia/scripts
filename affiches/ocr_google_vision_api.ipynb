{
  "nbformat": 4,
  "nbformat_minor": 0,
  "metadata": {
    "colab": {
      "name": "ocr_google_vision_api.ipynb",
      "provenance": [],
      "collapsed_sections": []
    },
    "kernelspec": {
      "name": "python3",
      "display_name": "Python 3"
    },
    "language_info": {
      "name": "python"
    }
  },
  "cells": [
    {
      "cell_type": "markdown",
      "source": [
        "# **Océrisation d'un dossier de fichiers JPG grâce à l'API de Google Vision**\n",
        "\n",
        "Pour exécuter ce notebook, il est nécessaire :\n",
        "- d'avoir un compte Google Cloud dans lequel est stocké les fichiers JPG dans un bucket public Google Storage. Pour rendre public un bucket, suivre les [instructions suivantes](https://cloud.google.com/storage/docs/access-control/making-data-public?hl=fr).\n",
        "- d'avoir accédé au service Google Vision de Google Cloud et d'avoir généré une clé d'API Google Vision\n",
        "- d'avoir les mêmes fichiers JPG stockés dans un dossier sur son Google Drive\n",
        "\n",
        "Toutes les langues reconnues par Google Vision sont disponibles [ici](https://cloud.google.com/vision/docs/languages?hl=fr).\n",
        "\n",
        "*Résultat* : récupération du texte océrisé des fichiers jpg et de la langue détectée avec son taux de fiabilité dans un fichier Excel."
      ],
      "metadata": {
        "id": "-Bd7QCvpSTma"
      }
    },
    {
      "cell_type": "code",
      "source": [
        "#@markdown # Connexion du notebook à un compte Google Drive\n",
        "\n",
        "#@markdown - Lancer la cellule\n",
        "#@markdown - Cliquer sur « Exécuter malgré tout » lors de l’apparition du message d’avertissement indiquant que le notebook n’a pas été créé par Google\n",
        "#@markdown - Cliquer sur « Se connecter à Google Drive » lors de l’apparition du second message d’avertissement pour donner l’autorisation au notebook d’accéder à vos fichiers Google Drive\n",
        "#@markdown - Choisir son compte Gmail puis cliquer sur « Autoriser »\n",
        "\n",
        "from google.colab import drive\n",
        "import os\n",
        "import pandas as pd\n",
        "from os import listdir\n",
        "from os.path import isfile, join\n",
        "\n",
        "drive.mount('/content/drive/')\n",
        "%cd /content/drive/My Drive/"
      ],
      "metadata": {
        "id": "s7zzVBDr4eip",
        "cellView": "form"
      },
      "execution_count": null,
      "outputs": []
    },
    {
      "cell_type": "code",
      "source": [
        "#@markdown # Installation des packages nécessaires\n",
        "\n",
        "#@markdown Exécuter simplement la cellule.\n",
        "\n",
        "!pip install --upgrade pip\n",
        "!pip install --upgrade google-api-python-client"
      ],
      "metadata": {
        "id": "sL_qmwOYiXYG",
        "cellView": "form"
      },
      "execution_count": null,
      "outputs": []
    },
    {
      "cell_type": "code",
      "source": [
        "#@markdown # Récupération des noms des fichiers jpg à partir d'un dossier Google Drive\n",
        "\n",
        "#@markdown Indiquer le chemin vers le dossier d'images sur le Google Drive :\n",
        "chemin_vers_dossier_dimages = '/content/drive/My Drive/Images/'#@param {type:\"string\"}\n",
        "\n",
        "#@markdown En résultat s'affiche le nombre de fichiers jpg contenus par le dossier.\n",
        "\n",
        "liste_fichiers = [f for f in listdir(chemin_vers_dossier_dimages) if isfile(join(chemin_vers_dossier_dimages, f))]\n",
        "print(len(liste_fichiers))\n",
        "\n",
        "# Création d'un dataframe des images traitées\n",
        "\n",
        "df = pd.DataFrame(liste_fichiers, columns = ['Image traitée'])\n",
        "df = df.sort_values(by=['Image traitée'])"
      ],
      "metadata": {
        "id": "4klWsytBwfBR",
        "cellView": "form"
      },
      "execution_count": null,
      "outputs": []
    },
    {
      "cell_type": "code",
      "source": [
        "#@markdown # Lancement de l'océrisation\n",
        "\n",
        "#@markdown Indiquer la clé d'API Google Vision :\n",
        "APIKEY = ''#@param {type:\"string\"}\n",
        "\n",
        "#@markdown Indiquer le nom du bucket Google Storage dans lequel se trouve les fichiers jpg (attention les fichiers doivent se trouver directement dans le bucket et non dans un sous-dossier) :\n",
        "#\n",
        "nom_bucket = ''#@param {type:\"string\"}\n",
        "\n",
        "#@markdown Indiquer le chemin du fichier Excel de sortie :\n",
        "chemin_fichier_resultats = \"/content/drive/MyDrive/resultat_ocr.xlsx\"#@param {type:\"string\"}\n",
        "\n",
        "from googleapiclient.discovery import build\n",
        "import base64\n",
        "\n",
        "# Pour chaque fichier dans le lot de fichier créé auparavant, création de l'URI du fichier dans le bucket \"affiches\" de Google Storage\n",
        "for nom in liste_fichiers:\n",
        "  IMAGE =\"gs://\" + nom_bucket + \"/\" + nom\n",
        "\n",
        "# Lien avec le service et envoie de la requête à l'API Google Vision\n",
        "  vservice = build('vision', 'v1', developerKey=APIKEY)\n",
        "  request = vservice.images().annotate(body={\n",
        "        'requests': [{\n",
        "                'image': {\n",
        "                    'source': {\n",
        "                        'gcs_image_uri': IMAGE\n",
        "                    }\n",
        "                },\n",
        "                'features': [{\n",
        "                    'type': 'TEXT_DETECTION',\n",
        "                    'maxResults': 3,\n",
        "                }]\n",
        "            }],\n",
        "        })\n",
        "\n",
        "  # Récupération de la réponse de la requête\n",
        "  reponse = request.execute(num_retries=3)\n",
        "\n",
        "  # Récupération du texte intégral de l'affiche\n",
        "  try:\n",
        "    texte = reponse['responses'][0]['textAnnotations'][0]['description']\n",
        "  except KeyError:\n",
        "    texte = \"Le fichier jpg ne contient pas de contenu textuel.\"\n",
        "\n",
        "  # Récupération du code de la ou les langues de l'affiche avec son ou ses taux de fiabilité\n",
        "  langues = []\n",
        "  try:\n",
        "    for l in reponse['responses'][0]['fullTextAnnotation']['pages'][0]['property']['detectedLanguages']:\n",
        "      langue = l['languageCode'], \":\", str(l['confidence'])\n",
        "      langue = ' '.join(langue)\n",
        "      langues.append(langue)\n",
        "  except KeyError:\n",
        "    langue = \"La langue du fichier jpg n'a pas pu être détectée.\"\n",
        "    langues.append(langue)\n",
        "  \n",
        "\n",
        "  # Récupération des informations récoltées suivant l'affiche correspondante dans un nouveau fichier Excel\n",
        "  for nom_fichier in df['Image traitée']:\n",
        "    if IMAGE.__contains__(nom_fichier):\n",
        "      matched_row = df.index[df['Image traitée'] == nom_fichier]\n",
        "      df.at[matched_row, 'Texte'] = str(texte)\n",
        "      df.at[matched_row, 'Langue(s) et taux de fiabilité'] = str(langues)\n",
        "      print(nom_fichier)\n",
        "\n",
        "df.to_excel(chemin_fichier_resultats)"
      ],
      "metadata": {
        "id": "XQ_C8O_0l3wd",
        "cellView": "form"
      },
      "execution_count": null,
      "outputs": []
    }
  ]
}