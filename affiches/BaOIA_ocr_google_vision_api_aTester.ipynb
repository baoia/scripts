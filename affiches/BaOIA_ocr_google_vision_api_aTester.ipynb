{
  "nbformat": 4,
  "nbformat_minor": 0,
  "metadata": {
    "colab": {
      "name": "modifs_ocr_google_vision_api.ipynb",
      "provenance": [],
      "collapsed_sections": []
    },
    "kernelspec": {
      "name": "python3",
      "display_name": "Python 3"
    },
    "language_info": {
      "name": "python"
    }
  },
  "cells": [
    {
      "cell_type": "markdown",
      "source": [
        "# **Océrisation d'un dossier de fichiers JPG grâce à l'API de Google Vision**\n",
        "\n",
        "Pour exécuter ce notebook, il est nécessaire :\n",
        "- d'avoir un compte Google Cloud et d'avoir créé un bucket public Google Storage. Pour rendre public un bucket, suivre les [instructions suivantes](https://cloud.google.com/storage/docs/access-control/making-data-public?hl=fr).\n",
        "- d'avoir accédé au service Google Vision de Google Cloud et d'avoir généré une clé d'API Google Vision\n",
        "- d'avoir toutes les images à océriser dans un dossier Google Drive qui se trouve à la racine du Drive (ce dossier peut contenir des sous-dossiers)\n",
        "\n",
        "Toutes les langues reconnues par Google Vision sont disponibles [ici](https://cloud.google.com/vision/docs/languages?hl=fr).\n",
        "\n",
        "*Résultat* : récupération du texte océrisé des fichiers jpg et de la langue détectée avec son taux de fiabilité dans un fichier Excel."
      ],
      "metadata": {
        "id": "-Bd7QCvpSTma"
      }
    },
    {
      "cell_type": "code",
      "source": [
        "#@markdown # Connexion du notebook à un compte Google Drive\n",
        "\n",
        "#@markdown - Lancer la cellule\n",
        "#@markdown - Cliquer sur « Exécuter malgré tout » lors de l’apparition du message d’avertissement indiquant que le notebook n’a pas été créé par Google\n",
        "#@markdown - Cliquer sur « Se connecter à Google Drive » lors de l’apparition du second message d’avertissement pour donner l’autorisation au notebook d’accéder à vos fichiers Google Drive\n",
        "#@markdown - Choisir son compte Gmail puis cliquer sur « Autoriser »\n",
        "\n",
        "from google.colab import drive\n",
        "import os\n",
        "import pandas as pd\n",
        "from os import listdir\n",
        "from os.path import isfile, join\n",
        "\n",
        "drive.mount('/content/drive/')\n",
        "%cd /content/drive/My Drive/"
      ],
      "metadata": {
        "id": "s7zzVBDr4eip"
      },
      "execution_count": null,
      "outputs": []
    },
    {
      "cell_type": "code",
      "source": [
        "#@markdown # Installation des packages nécessaires\n",
        "\n",
        "#@markdown Exécuter simplement la cellule.\n",
        "\n",
        "!pip install --upgrade pip\n",
        "!pip install --upgrade google-api-python-client"
      ],
      "metadata": {
        "id": "sL_qmwOYiXYG"
      },
      "execution_count": null,
      "outputs": []
    },
    {
      "cell_type": "code",
      "source": [
        "#@markdown # Import des fichiers dans le bucket\n",
        "\n",
        "#@markdown Indiquer le nom du bucket créé dans Google Storage :\n",
        "\n",
        "nom_bucket = ''#@param {type:\"string\"}\n",
        "\n",
        "#@markdown Indiquer le chemin absolu vers le dossier contenant les fichiers jpg sur le Google Drive et situé à la racine du Drive :\n",
        "chemin_dossier = '/content/drive/MyDrive/Images/'#@param {type:\"string\"}\n",
        "\n",
        "from google.cloud import storage\n",
        "import glob\n",
        "\n",
        "client = storage.Client()\n",
        "fichiers_jpg = glob.glob(chemin_dossier + '/**/*.jpg', recursive=True)\n",
        "bucket = client.get_bucket(nom_bucket)\n",
        "for local_file in fichiers_jpg:\n",
        "  remote_path = local_file.replace(chemin_dossier, \"\")\n",
        "  if os.path.isfile(local_file):\n",
        "    blob = bucket.blob(remote_path)\n",
        "    blob.upload_from_filename(local_file)\n",
        "\n",
        "#@markdown Nous vous conseillons de vérifier que tous les fichiers jpg aient bien été importés dans le bucket avant de passer à la suite."
      ],
      "metadata": {
        "id": "aIWx-JQBQSEV"
      },
      "execution_count": null,
      "outputs": []
    },
    {
      "cell_type": "code",
      "source": [
        "#@markdown # Lancement de l'océrisation\n",
        "\n",
        "#@markdown Indiquer la clé d'API Google Vision :\n",
        "APIKEY = ''#@param {type:\"string\"}\n",
        "\n",
        "#@markdown Indiquer le chemin du fichier Excel de sortie :\n",
        "chemin_fichier_resultats = \"/content/drive/MyDrive/resultat_ocr.xlsx\"#@param {type:\"string\"}\n",
        "\n",
        "\n",
        "from googleapiclient.discovery import build\n",
        "from google.cloud import storage\n",
        "import base64\n",
        "\n",
        "client = storage.Client()\n",
        "bucket_name = client.get_bucket(nom_bucket)\n",
        "elements = bucket_name.list_blobs()\n",
        "files = [a.name for a in elements]\n",
        "\n",
        "df = pd.DataFrame(files, columns = ['Image traitée'])\n",
        "df = df.sort_values(by=['Image traitée'])\n",
        "\n",
        "# Pour chaque fichier dans le lot de fichier créé auparavant, création de l'URI du fichier dans le bucket \"affiches\" de Google Storage\n",
        "for nom_jpg in files:\n",
        "  IMAGE =\"gs://\" + nom_bucket + \"/\" + nom_jpg\n",
        "\n",
        "# Lien avec le service et envoie de la requête à l'API Google Vision\n",
        "  vservice = build('vision', 'v1', developerKey=APIKEY)\n",
        "  request = vservice.images().annotate(body={\n",
        "        'requests': [{\n",
        "                'image': {\n",
        "                    'source': {\n",
        "                        'gcs_image_uri': IMAGE\n",
        "                    }\n",
        "                },\n",
        "                'features': [{\n",
        "                    'type': 'TEXT_DETECTION',\n",
        "                    'maxResults': 3,\n",
        "                }]\n",
        "            }],\n",
        "        })\n",
        "\n",
        "  # Récupération de la réponse de la requête\n",
        "  reponse = request.execute(num_retries=3)\n",
        "\n",
        "  # Récupération du texte intégral de l'affiche\n",
        "  try:\n",
        "    texte = reponse['responses'][0]['textAnnotations'][0]['description']\n",
        "  except KeyError:\n",
        "    texte = \"Le fichier jpg ne contient pas de contenu textuel.\"\n",
        "\n",
        "  # Récupération du code de la ou les langues de l'affiche avec son ou ses taux de fiabilité\n",
        "  langues = []\n",
        "  try:\n",
        "    for l in reponse['responses'][0]['fullTextAnnotation']['pages'][0]['property']['detectedLanguages']:\n",
        "      langue = l['languageCode'], \":\", str(l['confidence'])\n",
        "      langue = ' '.join(langue)\n",
        "      langues.append(langue)\n",
        "  except KeyError:\n",
        "    langue = \"La langue du fichier jpg n'a pas pu être détectée.\"\n",
        "    langues.append(langue)\n",
        "  \n",
        "\n",
        "  # Récupération des informations récoltées suivant l'affiche correspondante dans un nouveau fichier Excel\n",
        "  for nom_fichier in df['Image traitée']:\n",
        "    if IMAGE.__contains__(nom_fichier):\n",
        "      matched_row = df.index[df['Image traitée'] == nom_fichier]\n",
        "      df.at[matched_row, 'Texte'] = str(texte)\n",
        "      df.at[matched_row, 'Langue(s) et taux de fiabilité'] = str(langues)\n",
        "      print(nom_fichier)\n",
        "\n",
        "df.to_excel(chemin_fichier_resultats)"
      ],
      "metadata": {
        "id": "XQ_C8O_0l3wd"
      },
      "execution_count": null,
      "outputs": []
    }
  ]
}