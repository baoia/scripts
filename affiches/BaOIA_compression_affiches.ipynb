{
  "cells": [
    {
      "cell_type": "markdown",
      "source": [
        "# **Compression d'un dossier d'images**\n",
        "\n",
        "Ce script permet de compresser la totalité des images d'un dossier en conservant leurs proportions.\n",
        "\n",
        "*Résultat* : des images d'une taille strictement inférieure à 100 Ko (avec des variations selon les images) pour une définition aux alentours de 650 x 500 pixels.\n",
        "\n",
        "\n"
      ],
      "metadata": {
        "id": "6bvl4Jj6N8Mm"
      }
    },
    {
      "cell_type": "code",
      "execution_count": null,
      "metadata": {
        "id": "l7mSPs45vBat",
        "cellView": "form"
      },
      "outputs": [],
      "source": [
        "#@markdown # Connexion du notebook à un compte Google Drive\n",
        "\n",
        "#@markdown - Lancer la cellule\n",
        "#@markdown - Cliquer sur « Exécuter malgré tout » lors de l’apparition du message d’avertissement indiquant que le notebook n’a pas été créé par Google\n",
        "#@markdown - Cliquer sur « Se connecter à Google Drive » lors de l’apparition du second message d’avertissement pour donner l’autorisation au notebook d’accéder à vos fichiers Google Drive\n",
        "#@markdown - Choisir son compte Gmail puis cliquer sur « Autoriser »\n",
        "\n",
        "from google.colab import drive\n",
        "from PIL import Image\n",
        "import os\n",
        "import sys\n",
        "\n",
        "drive.mount('/content/drive/')\n",
        "\n",
        "Image.MAX_IMAGE_PIXELS = None\n",
        "Image.LOAD_TRUNCATED_IMAGES = True"
      ]
    },
    {
      "cell_type": "code",
      "source": [
        "#@markdown # Identification du dossier d'images à compresser\n",
        "\n",
        "#@markdown Indiquer le chemin vers le dossier d'images sur le Google Drive :\n",
        "chemin_vers_dossier_dimages = '/content/drive/My Drive/Images/'#@param {type:\"string\"}\n",
        "\n",
        "os.chdir(chemin_vers_dossier_dimages)"
      ],
      "metadata": {
        "cellView": "form",
        "id": "NiQR3xCJLNLz"
      },
      "execution_count": null,
      "outputs": []
    },
    {
      "cell_type": "code",
      "execution_count": null,
      "metadata": {
        "id": "PJj_cm-MtNHx",
        "cellView": "form"
      },
      "outputs": [],
      "source": [
        "#@markdown # Lancer la compression\n",
        "\n",
        "#@markdown Exécuter simplement cette cellule et la compression s'effectuera.\n",
        "\n",
        "def compresseMoi(chemin):\n",
        "  image = Image.open(chemin)\n",
        "  image.thumbnail((650,500))\n",
        "  image.save(chemin)\n",
        "\n",
        "for fichier in os.listdir(chemin_vers_dossier_dimages):\n",
        "  compresseMoi(fichier)\n",
        "  print(fichier)"
      ]
    }
  ],
  "metadata": {
    "colab": {
      "collapsed_sections": [],
      "name": "compression_affiches.ipynb",
      "provenance": []
    },
    "kernelspec": {
      "display_name": "Python 3",
      "name": "python3"
    },
    "language_info": {
      "name": "python"
    }
  },
  "nbformat": 4,
  "nbformat_minor": 0
}