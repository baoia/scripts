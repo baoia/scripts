{
  "nbformat": 4,
  "nbformat_minor": 0,
  "metadata": {
    "colab": {
      "name": "BaOIA_gallica_txt.ipynb",
      "provenance": [],
      "collapsed_sections": []
    },
    "kernelspec": {
      "name": "python3",
      "display_name": "Python 3"
    }
  },
  "cells": [
    {
      "cell_type": "markdown",
      "metadata": {
        "id": "4Om32jkBnt4I"
      },
      "source": [
        "# *Extraction de l’océrisation de documents de Gallica*\n",
        "\n",
        "Ce script permet la récupération automatique des fichiers textes des documents océrisés par la BnF. \n",
        "\n",
        "*Document d'entrée* : fichier Excel (.xlsx) contenant une liste des liens des documents Gallica à télécharger ou leurs identifiants ARK.\n",
        "\n",
        "*Documents de sortie* : création d'un dossier où sont téléchargés les fichers (.txt) avec le contenu de l'océrisation des documents."
      ]
    },
    {
      "cell_type": "code",
      "metadata": {
        "id": "vNR74XCNs0eJ"
      },
      "source": [
        "#@markdown # Connecter le notebook à son compte Google Drive :\n",
        "\n",
        "#@markdown - Lancer la cellule\n",
        "#@markdown - Cliquer sur « Exécuter malgré tout » lors de l’apparition du message d’avertissement indiquant que le notebook n’a pas été créé par Google\n",
        "#@markdown - Cliquer sur « Se connecter à Google Drive » lors de l’apparition du second message d’avertissement pour donner l’autorisation au notebook d’accéder à vos fichiers Google Drive\n",
        "#@markdown - Choisir son compte Gmail puis cliquer sur « Autoriser »\n",
        "\n",
        "from google.colab import drive\n",
        "from openpyxl import load_workbook\n",
        "import pandas as pd\n",
        "import re\n",
        "import requests\n",
        "import shutil\n",
        "import os\n",
        "import xml.etree.ElementTree as ET\n",
        "import lxml\n",
        "import glob\n",
        "from lxml import etree\n",
        "from re import match\n",
        "from bs4 import BeautifulSoup\n",
        "from urllib.error import HTTPError\n",
        "import urllib.request, urllib.error, urllib.parse\n",
        "import string\n",
        "drive.mount('/content/drive/')\n",
        "%cd /content/drive/My Drive/"
      ],
      "execution_count": null,
      "outputs": []
    },
    {
      "cell_type": "code",
      "metadata": {
        "id": "Mwdn5ko7adaQ"
      },
      "source": [
        "#@markdown # Téléchargement des fichiers textes à partir du fichier Excel comportant les références aux documents sur Gallica : \n",
        "\n",
        "def txt_gallica_xls(chemin_vers_le_fichier_excel):\n",
        "  wb= load_workbook(chemin_vers_le_fichier_excel)\n",
        "  ws= wb[nom_de_la_feuille]\n",
        "  column_id = ws[lettre_de_la_colonne]\n",
        "  id_list = [column_id[x].value for x in range(len(column_id))]\n",
        "  for e in id_list:\n",
        "    if e == None:\n",
        "      exit()\n",
        "    else:\n",
        "      match = re.findall(r\"b[a-z0-9]{4,}\", e)\n",
        "      for id in match:\n",
        "        url2= \"\".join([\"https://gallica.bnf.fr/ark:/12148/\", id, '.texteBrut'])\n",
        "        request = urllib.request.Request(url2)\n",
        "        try:\n",
        "          content = urllib.request.urlopen(request)\n",
        "          parse = BeautifulSoup(content, 'html.parser')\n",
        "          text1 = parse.find_all('body')\n",
        "          titre = parse.find_all('meta', {'name' : 'title'})\n",
        "          titre = re.search(r'\"(.*?)\"',str(titre)).group(0)\n",
        "          titre = re.sub('[\\\"\\/]', '', titre)\n",
        "          titre = re.sub(' ', '_', titre)\n",
        "          print(titre + ' en cours de téléchargement...')\n",
        "          date = parse.find_all('meta', {'name' : 'DC.date'})\n",
        "          date = re.search(r'\"(.*?)\"',str(date)).group(0)\n",
        "          date = re.sub('\"', '', date)\n",
        "          filename = \"\".join(date+'_'+titre[:45]+'_'+id+'_texte_brut.txt')\n",
        "          text2 = re.sub('<.*?>', '', str(text1))\n",
        "          text5 = re.sub(\"\\d+\", \"\", text2)\n",
        "          text6 = re.sub('Rappel?(.*?)%.','',text5, flags=re.DOTALL)\n",
        "          with open(filename, 'w') as text_file:\n",
        "            text_file.write(str(text6))\n",
        "        except HTTPError as tp:\n",
        "          print(\"Le contenu de ce lien n'a pas pu être téléchargé : \" + e)\n",
        "  print(\"Fin du téléchargement.\")\n",
        "  chemin_nouveau_dossier = ''.join(chemin_vers_le_dossier_de_travail+\"/\"+ nom_dossier_telechargement+\"/*.txt\")\n",
        "  for files in glob.glob(chemin_nouveau_dossier):\n",
        "    taille=os.path.getsize(files)\n",
        "    if taille < 10:\n",
        "      nom_suppr = os.path.basename(files)\n",
        "      os.remove(files)\n",
        "      print(\"Ce fichier n'est pas océrisé : \" + nom_suppr)\n",
        "\n",
        "#@markdown ###Indiquer le chemin absolu vers le dossier de travail sur le Google Drive :\n",
        "\n",
        "chemin_vers_le_dossier_de_travail = '/content/drive/My Drive/scripts-main/guides_de_voyage/'#@param {type:\"string\"}\n",
        "#@markdown Exemple : /content/drive/My Drive/corpus/\n",
        "\n",
        "\n",
        "#@markdown ###Indiquer le chemin absolu vers le fichier Excel (.xlsx) :\n",
        "chemin_vers_le_fichier_excel = '/content/drive/My Drive/scripts-main/guides_de_voyage/Corpus de Guides Paris.xlsx' #@param {type:\"string\"}\n",
        "#@markdown Exemple : /content/drive/My Drive/corpus/guides.xlsx\n",
        "\n",
        "#@markdown ###Indiquer le nom de la feuille du fichier Excel (il s'agit des onglets en bas du document) :\n",
        "nom_de_la_feuille = 'Guides Paris' #@param {type:\"string\"}\n",
        "#@markdown Exemple : Feuille 1\n",
        "\n",
        "#@markdown ###Indiquer la lettre de la colonne avec le lien ou identifiant ARK sur Gallica :\n",
        "lettre_de_la_colonne = 'D' #@param {type:\"string\"}\n",
        "#@markdown Exemple : D\n",
        "\n",
        "#@markdown ###Indiquer le nom du dossier qui sera créé dans lequel les fichiers textes vont être téléchargés :\n",
        "nom_dossier_telechargement = 'fichiers textes guides gallica' #@param {type:\"string\"}\n",
        "\n",
        "os.chdir(chemin_vers_le_dossier_de_travail)\n",
        "if not os.path.exists(nom_dossier_telechargement):\n",
        "      os.makedirs(nom_dossier_telechargement)\n",
        "os.chdir(nom_dossier_telechargement)\n",
        "\n",
        "txt_gallica_xls(chemin_vers_le_fichier_excel)"
      ],
      "execution_count": null,
      "outputs": []
    }
  ]
}