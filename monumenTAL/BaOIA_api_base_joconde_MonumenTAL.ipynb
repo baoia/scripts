{
  "nbformat": 4,
  "nbformat_minor": 0,
  "metadata": {
    "colab": {
      "name": "api_base_joconde_MonumenTAL.ipynb",
      "provenance": [],
      "collapsed_sections": []
    },
    "kernelspec": {
      "name": "python3",
      "display_name": "Python 3"
    },
    "language_info": {
      "name": "python"
    }
  },
  "cells": [
    {
      "cell_type": "markdown",
      "metadata": {
        "id": "6bWhaZjhnRKh"
      },
      "source": [
        "# Outil d'alignement des données avec l'API de la Base Joconde\n",
        "\n",
        "Projet MonumenTAL"
      ]
    },
    {
      "cell_type": "code",
      "metadata": {
        "id": "u2vKBGDIvjkP"
      },
      "source": [
        "#@title Installation des bibliothèques nécessaires et connexion à un compte Google Drive.\n",
        "\n",
        "''' \n",
        "Google Colab notebook.\n",
        "Python == 3.7.11\n",
        "\n",
        "BaOIA - La Contemporaine - Université de Nanterre\n",
        "'''\n",
        "\n",
        "\n",
        "## Installation des bibliothèques et connexion au compte Google Drive\n",
        "\n",
        "\n",
        "from google.colab import drive\n",
        "import json\n",
        "from openpyxl import load_workbook\n",
        "import pandas as pd\n",
        "import re\n",
        "import requests\n",
        "import shutil\n",
        "import os\n",
        "import xml.etree.ElementTree as ET\n",
        "import lxml\n",
        "from lxml import etree\n",
        "!pip install unidecode==1.2.0\n",
        "import unidecode\n",
        "import unicodedata\n",
        "from re import match\n",
        "from bs4 import BeautifulSoup\n",
        "import urllib.request, urllib.error, urllib.parse\n",
        "import string\n",
        "\n",
        "drive.mount('/content/drive/')\n",
        "%cd /content/drive/My Drive/atelier_MonumenTAL/alignement"
      ],
      "execution_count": null,
      "outputs": []
    },
    {
      "cell_type": "code",
      "metadata": {
        "id": "0KU_9d4Vzd98"
      },
      "source": [
        "def txt_gallica(fichier_xls):\n",
        "\n",
        "  \"\"\"Fonction qui prend en entrée en fichier au format XLSX (Excel). Ce fichier\n",
        "  contient une liste d'oeuvres. Chaque oeuvre identifiée dans la base Joconde à partir\n",
        "  de ce nom est répertoriée dans un fichier TXT (texte brut) ainsi que toutes les \n",
        "  métadonnées associées dans la base Joconde.\"\"\"\n",
        "\n",
        "\n",
        "#@markdown Noms du fichier d'entrée existant:\n",
        "  chemin_fichier_excel_liste_oeuvres = '/content/drive/MyDrive/atelier_MonumenTAL/alignement/MonumenTAL-MODOAP-ListeTitres-colonnes-20210615.xlsx' #@param {type:\"string\"}\n",
        "#@markdown Noms du fichier de sortie:\n",
        "  nom_fichier_donnees_base_joconde = 'api_joconde_oeuvres.txt' #@param {type:\"string\"}\n",
        "  wb= load_workbook(fichier_xls)\n",
        "  ws= wb['Feuille 1']\n",
        "  column_id = ws['A']\n",
        "  id_list = [column_id[x].value for x in range(len(column_id))]\n",
        "  for f in id_list[1:504]:\n",
        "    e = unidecode.unidecode(f)\n",
        "    match = re.sub(r' ', r'+', e)\n",
        "    url2= \"\".join([\"https://data.culture.gouv.fr/api/records/1.0/search/?dataset=base-joconde-extrait&q=\", match])\n",
        "    request = urllib.request.Request(url2)\n",
        "    try:\n",
        "      content = urllib.request.urlopen(request)\n",
        "      pass\n",
        "    parse = BeautifulSoup(content, 'html.parser')\n",
        "    with open(nom_fichier_donnees_base_joconde, \"a\") as text_file:\n",
        "      parse2 = \"\".join([match,str(parse),\"\\n\\n\\n\"])\n",
        "      text_file.write(parse2)\n",
        "\n",
        "\n",
        "txt_gallica(chemin_fichier_excel_liste_oeuvres)"
      ],
      "execution_count": null,
      "outputs": []
    }
  ]
}