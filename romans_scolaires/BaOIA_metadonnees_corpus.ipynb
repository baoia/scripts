{
  "nbformat": 4,
  "nbformat_minor": 0,
  "metadata": {
    "colab": {
      "name": "BaOIA_metadonnees_corpus.ipynb",
      "provenance": []
    },
    "kernelspec": {
      "name": "python3",
      "display_name": "Python 3"
    },
    "language_info": {
      "name": "python"
    }
  },
  "cells": [
    {
      "cell_type": "markdown",
      "metadata": {
        "id": "Shf6SboDapak"
      },
      "source": [
        "### Outil de création d'un fichier regroupant toutes les métadonnées d'un corpus téléchargés au format .JSON"
      ]
    },
    {
      "cell_type": "code",
      "metadata": {
        "colab": {
          "base_uri": "https://localhost:8080/"
        },
        "id": "9qsN1sBMbs9t",
        "outputId": "eca460ad-4d6b-41d2-d3ca-f8d1b805ff4d"
      },
      "source": [
        "#@title Installation des bibliothèques nécessaires et connexion à un compte Google Drive.\n",
        "\n",
        "''' \n",
        "Google Colab notebook.\n",
        "Python == 3.7.11\n",
        "\n",
        "BaOIA - La Contemporaine - Université de Nanterre\n",
        "'''\n",
        "\n",
        "\n",
        "## Installation des bibliothèques et connexion au compte Google Drive\n",
        "\n",
        "\n",
        "import re\n",
        "import glob\n",
        "import os\n",
        "import json\n",
        "from google.colab import drive\n",
        "\n",
        "drive.mount('/content/drive/')\n",
        "%cd /content/drive/My Drive/romans_scolaires/"
      ],
      "execution_count": null,
      "outputs": [
        {
          "output_type": "stream",
          "text": [
            "Mounted at /content/drive/\n",
            "/content/drive/My Drive/romans_scolaires\n"
          ],
          "name": "stdout"
        }
      ]
    },
    {
      "cell_type": "code",
      "metadata": {
        "id": "mVjcF9PFb6IP"
      },
      "source": [
        "## Importation fichier données et NER du document\n",
        "\n",
        "\n",
        "metadonnees = {}\n",
        "titre = []\n",
        "date_publication = []\n",
        "total_pages = []\n",
        "auteur = []\n",
        "editeur = []\n",
        "genre_editeur = []\n",
        "format = []\n",
        "\n",
        "\n",
        "#@markdown Indiquer le chemin vers le dossier contenant tous les documents téléchargés au format .JSON:\n",
        "chemin_dossier_json = \"/content/drive/MyDrive/romans_scolaires/json_ner\" #@param {type:\"string\"}\n",
        "nom_complet = chemin_dossier_json + \"/*.json\"\n",
        "\n",
        "#@markdown Indiquer le nom du fichier de sortie au format .JSON contenant les métadonnées:\n",
        "nom_fichier_json_metadonnees = \"metadonnees_corpus.json\" #@param {type:\"string\"}\n",
        "\n",
        "#@markdown Indiquer le nom du fichier de sortie au format .XLSX (Excel) contenant les métadonnées:\n",
        "nom_fichier_xlsx_metadonnees = \"metadonnees_corpus.xlsx\" #@param {type:\"string\"}\n",
        "\n",
        "for file in glob.glob(nom_complet):\n",
        "  with open(file, \"r\") as f :\n",
        "    contenu_json = json.load(f)\n",
        "    for info in contenu_json[\"Infos_Doc\"] :\n",
        "      titre = contenu_json[\"Infos_Doc\"][\"Titre\"]\n",
        "      date_publication = contenu_json[\"Infos_Doc\"][\"Publication_Date\"]\n",
        "      total_pages = contenu_json[\"Infos_Doc\"][\"Total_Pages\"]\n",
        "      auteur = contenu_json[\"Infos_Doc\"][\"Auteur\"]\n",
        "      editeur = contenu_json[\"Infos_Doc\"][\"Editeur\"]\n",
        "      format = contenu_json[\"Infos_Doc\"][\"Format\"]\n",
        "      metadonnees[titre] = {\"Date de publication\" : date_publication, \"Nombre de pages\": total_pages,\n",
        "                                        \"Auteur\": auteur, \"Editeur\": editeur, \"Genre de l'éditeur\": genre_editeur, \n",
        "                                        \"Format\": format}\n",
        "\n",
        "with open(nom_fichier_json_metadonnees, \"w\") as gjoi:\n",
        "  json.dump(metadonnees, gjoi, indent=4, ensure_ascii=False)\n",
        "\n",
        "df = pd.DataFrame(metadonnees)\n",
        "df2 = df.transpose()\n",
        "df2.to_excel(nom_fichier_xlsx_metadonnes)"
      ],
      "execution_count": null,
      "outputs": []
    }
  ]
}