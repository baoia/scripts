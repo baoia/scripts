{
  "nbformat": 4,
  "nbformat_minor": 0,
  "metadata": {
    "colab": {
      "name": "BaOIA_api_geonames.ipynb",
      "provenance": [],
      "collapsed_sections": []
    },
    "kernelspec": {
      "name": "python3",
      "display_name": "Python 3"
    }
  },
  "cells": [
    {
      "cell_type": "markdown",
      "metadata": {
        "id": "yEyI_MIGv898"
      },
      "source": [
        "# Outil de récupération d'informations géographiques via l'API Geonames"
      ]
    },
    {
      "cell_type": "code",
      "metadata": {
        "colab": {
          "base_uri": "https://localhost:8080/"
        },
        "id": "HPBxrikBJU2U",
        "outputId": "d6fc3219-28dc-4e80-8533-9ed3696b81c0"
      },
      "source": [
        "#@title Installation des bibliothèques nécessaires et connexion à un compte Google Drive.\n",
        "\n",
        "''' \n",
        "Google Colab notebook.\n",
        "Python == 3.7.11\n",
        "\n",
        "BaOIA - La Contemporaine - Université de Nanterre\n",
        "'''\n",
        "\n",
        "\n",
        "## Installation des bibliothèques et connexion au compte Google Drive\n",
        "\n",
        "!pip install geopy==1.17.0\n",
        "from google.colab import drive\n",
        "from geopy.geocoders import Nominatim\n",
        "\n",
        "drive.mount('/content/drive/')\n",
        "%cd /content/drive/My Drive/geonames/"
      ],
      "execution_count": null,
      "outputs": [
        {
          "output_type": "stream",
          "text": [
            "Drive already mounted at /content/drive/; to attempt to forcibly remount, call drive.mount(\"/content/drive/\", force_remount=True).\n",
            "/content/drive/My Drive/geonames\n"
          ],
          "name": "stdout"
        }
      ]
    },
    {
      "cell_type": "code",
      "metadata": {
        "id": "Ifj0OOk8JuDE",
        "colab": {
          "base_uri": "https://localhost:8080/"
        },
        "outputId": "5d11abd7-7db9-4a67-b1cf-880e3c415562"
      },
      "source": [
        "#@markdown Fichier d'entrée: fichier .txt (texte brut) contenant une liste de lieux à aligner avec l'API Geonames\n",
        "\n",
        "chemin_fichier_txt_lieux = '/content/drive/My Drive/geonames/extrait_loc.txt'#@param {type:\"string\"}\n",
        "#@markdown Fichier de sortie: fichier .txt (texte brut) le sinformations récupérées\n",
        "nom_fichier_txt_donnees_lieux = 'donnees_lieux_geonames.txt' #@param {type:\"string\"}\n",
        "geolocator = Nominatim(user_agent=\"marinagiardinetti\") ##Besoin d'un identifiant\n",
        "\n",
        "#@markdown Les informations récupérées sont notamment les suivantes: ville, pays, région, département, coordonnées géographiques (latitude et longitude). \n",
        "\n",
        "\n",
        "with open (chemin_fichier_txt_lieux, \"r\") as myfile:\n",
        "    data=myfile.readlines()\n",
        "with open(nom_fichier_txt_donnees_lieux, 'w') as my_coords:\n",
        "  for lieu in data:\n",
        "    try:\n",
        "      location = geolocator.geocode(lieu, timeout=10)\n",
        "      coords = \"\".join([str(lieu), \": \", str(location.address), \", \", str(location.latitude), \", \", str(location.longitude), \"\\n\"])\n",
        "      my_coords.write(coords)\n",
        "    except AttributeError:\n",
        "      print(\"Pas de géolocalisation trouvée\")\n",
        "\n",
        "# Avec geopy = possibilité de calculer les distances\n",
        "\n"
      ],
      "execution_count": null,
      "outputs": [
        {
          "output_type": "stream",
          "text": [
            "amiens\n",
            "\n",
            "Amiens, Somme, Hauts-de-France, France métropolitaine, France\n",
            "(49.8941708, 2.2956951)\n",
            "{'place_id': 258318801, 'licence': 'Data © OpenStreetMap contributors, ODbL 1.0. https://osm.org/copyright', 'osm_type': 'relation', 'osm_id': 114347, 'boundingbox': ['49.846837', '49.9505487', '2.2235574', '2.3457767'], 'lat': '49.8941708', 'lon': '2.2956951', 'display_name': 'Amiens, Somme, Hauts-de-France, France métropolitaine, France', 'class': 'boundary', 'type': 'administrative', 'importance': 0.7249489622249039, 'icon': 'https://nominatim.openstreetmap.org/ui/mapicons//poi_boundary_administrative.p.20.png'}\n",
            "samarobriva\n",
            "\n",
            "Amiens, Somme, Hauts-de-France, France métropolitaine, France\n",
            "(49.8941708, 2.2956951)\n",
            "{'place_id': 258318801, 'licence': 'Data © OpenStreetMap contributors, ODbL 1.0. https://osm.org/copyright', 'osm_type': 'relation', 'osm_id': 114347, 'boundingbox': ['49.846837', '49.9505487', '2.2235574', '2.3457767'], 'lat': '49.8941708', 'lon': '2.2956951', 'display_name': 'Amiens, Somme, Hauts-de-France, France métropolitaine, France', 'class': 'boundary', 'type': 'administrative', 'importance': 0.6249489622249039, 'icon': 'https://nominatim.openstreetmap.org/ui/mapicons//poi_boundary_administrative.p.20.png'}\n",
            "somme\n",
            "\n",
            "Somme, Hauts-de-France, France métropolitaine, France\n",
            "(49.96897145, 2.373858954610659)\n",
            "{'place_id': 258345353, 'licence': 'Data © OpenStreetMap contributors, ODbL 1.0. https://osm.org/copyright', 'osm_type': 'relation', 'osm_id': 7463, 'boundingbox': ['49.571783', '50.3663367', '1.3798283', '3.2027711'], 'lat': '49.96897145', 'lon': '2.373858954610659', 'display_name': 'Somme, Hauts-de-France, France métropolitaine, France', 'class': 'boundary', 'type': 'administrative', 'importance': 0.6572169527239945, 'icon': 'https://nominatim.openstreetmap.org/ui/mapicons//poi_boundary_administrative.p.20.png'}\n",
            "havre\n",
            "\n",
            "Le Havre, Seine-Maritime, Normandie, France métropolitaine, France\n",
            "(49.4938975, 0.1079732)\n",
            "{'place_id': 257324679, 'licence': 'Data © OpenStreetMap contributors, ODbL 1.0. https://osm.org/copyright', 'osm_type': 'relation', 'osm_id': 104492, 'boundingbox': ['49.4516697', '49.5401463', '0.0667992', '0.1955556'], 'lat': '49.4938975', 'lon': '0.1079732', 'display_name': 'Le Havre, Seine-Maritime, Normandie, France métropolitaine, France', 'class': 'boundary', 'type': 'administrative', 'importance': 0.7223325741883644, 'icon': 'https://nominatim.openstreetmap.org/ui/mapicons//poi_boundary_administrative.p.20.png'}\n",
            "noyon\n",
            "\n",
            "Noyon, Compiègne, Oise, Hauts-de-France, France métropolitaine, 60400, France\n",
            "(49.5805561, 3.0000288)\n",
            "{'place_id': 258371670, 'licence': 'Data © OpenStreetMap contributors, ODbL 1.0. https://osm.org/copyright', 'osm_type': 'relation', 'osm_id': 197563, 'boundingbox': ['49.5478118', '49.6082335', '2.9702935', '3.0443429'], 'lat': '49.5805561', 'lon': '3.0000288', 'display_name': 'Noyon, Compiègne, Oise, Hauts-de-France, France métropolitaine, 60400, France', 'class': 'boundary', 'type': 'administrative', 'importance': 0.6693093835364384, 'icon': 'https://nominatim.openstreetmap.org/ui/mapicons//poi_boundary_administrative.p.20.png'}\n",
            "beauvais\n",
            "\n",
            "Beauvais, Oise, Hauts-de-France, France métropolitaine, 60000, France\n",
            "(49.4300997, 2.0823355)\n",
            "{'place_id': 257840013, 'licence': 'Data © OpenStreetMap contributors, ODbL 1.0. https://osm.org/copyright', 'osm_type': 'relation', 'osm_id': 158311, 'boundingbox': ['49.4028134', '49.4822588', '2.0341473', '2.1412077'], 'lat': '49.4300997', 'lon': '2.0823355', 'display_name': 'Beauvais, Oise, Hauts-de-France, France métropolitaine, 60000, France', 'class': 'boundary', 'type': 'administrative', 'importance': 0.6941790532583256, 'icon': 'https://nominatim.openstreetmap.org/ui/mapicons//poi_boundary_administrative.p.20.png'}\n",
            "canal latéral\n",
            "\n",
            "Canal Latéral, Saint-Omer, Pas-de-Calais, Hauts-de-France, France métropolitaine, 62500, France\n",
            "(50.761869, 2.2578963)\n",
            "{'place_id': 258648457, 'licence': 'Data © OpenStreetMap contributors, ODbL 1.0. https://osm.org/copyright', 'osm_type': 'relation', 'osm_id': 4626661, 'boundingbox': ['50.7590675', '50.764959', '2.2559358', '2.258457'], 'lat': '50.761869', 'lon': '2.2578963', 'display_name': 'Canal Latéral, Saint-Omer, Pas-de-Calais, Hauts-de-France, France métropolitaine, 62500, France', 'class': 'waterway', 'type': 'canal', 'importance': 0.47500000000000003}\n",
            "vieil amiens\n",
            "\n",
            "Rue du Vieil Orme, Guignemicourt, Amiens, Somme, Hauts-de-France, France métropolitaine, 80540, France\n",
            "(49.8687753, 2.1727255)\n",
            "{'place_id': 102807823, 'licence': 'Data © OpenStreetMap contributors, ODbL 1.0. https://osm.org/copyright', 'osm_type': 'way', 'osm_id': 53504204, 'boundingbox': ['49.8683392', '49.8695646', '2.1708579', '2.1742738'], 'lat': '49.8687753', 'lon': '2.1727255', 'display_name': 'Rue du Vieil Orme, Guignemicourt, Amiens, Somme, Hauts-de-France, France métropolitaine, 80540, France', 'class': 'highway', 'type': 'tertiary', 'importance': 0.3}\n",
            "dunkerque\n",
            "\n",
            "Dunkerque, Nord, Hauts-de-France, France métropolitaine, France\n",
            "(51.0347708, 2.3772525)\n",
            "{'place_id': 257475665, 'licence': 'Data © OpenStreetMap contributors, ODbL 1.0. https://osm.org/copyright', 'osm_type': 'relation', 'osm_id': 139610, 'boundingbox': ['50.9759776', '51.0581006', '2.2396964', '2.4464717'], 'lat': '51.0347708', 'lon': '2.3772525', 'display_name': 'Dunkerque, Nord, Hauts-de-France, France métropolitaine, France', 'class': 'boundary', 'type': 'administrative', 'importance': 0.7014374137160292, 'icon': 'https://nominatim.openstreetmap.org/ui/mapicons//poi_boundary_administrative.p.20.png'}\n",
            "maubeuge\n",
            "\n",
            "Maubeuge, Avesnes-sur-Helpe, Nord, Hauts-de-France, France métropolitaine, 59600, France\n",
            "(50.2796417, 3.9674127)\n",
            "{'place_id': 256932454, 'licence': 'Data © OpenStreetMap contributors, ODbL 1.0. https://osm.org/copyright', 'osm_type': 'relation', 'osm_id': 55074, 'boundingbox': ['50.2583482', '50.3085291', '3.911913', '4.0101779'], 'lat': '50.2796417', 'lon': '3.9674127', 'display_name': 'Maubeuge, Avesnes-sur-Helpe, Nord, Hauts-de-France, France métropolitaine, 59600, France', 'class': 'boundary', 'type': 'administrative', 'importance': 0.6699064856623655, 'icon': 'https://nominatim.openstreetmap.org/ui/mapicons//poi_boundary_administrative.p.20.png'}\n",
            "villers-bretonneux\n",
            "\n",
            "Villers-Bretonneux, Amiens, Somme, Hauts-de-France, France métropolitaine, 80800, France\n",
            "(49.8686675, 2.5192596)\n",
            "{'place_id': 258423089, 'licence': 'Data © OpenStreetMap contributors, ODbL 1.0. https://osm.org/copyright', 'osm_type': 'relation', 'osm_id': 1746535, 'boundingbox': ['49.838593', '49.886797', '2.484246', '2.552462'], 'lat': '49.8686675', 'lon': '2.5192596', 'display_name': 'Villers-Bretonneux, Amiens, Somme, Hauts-de-France, France métropolitaine, 80800, France', 'class': 'boundary', 'type': 'administrative', 'importance': 0.7609765796831802, 'icon': 'https://nominatim.openstreetmap.org/ui/mapicons//poi_boundary_administrative.p.20.png'}\n",
            "grisées\n",
            "Pas de géolocalisation trouvée\n"
          ],
          "name": "stdout"
        }
      ]
    },
    {
      "cell_type": "code",
      "metadata": {
        "id": "EgVTfSWsGl_2"
      },
      "source": [
        "## Création fichier XML pour géologcalisation multiple (carte)\n",
        "from geopy.geocoders import Nominatim\n",
        "import xml.etree.cElementTree as ET\n",
        "!pip install yattag\n",
        "from yattag import Doc, indent\n",
        "\n",
        "doc, tag, text = Doc().tagtext()\n",
        "geolocator = Nominatim(user_agent=\"marinagiardinetti\") ##Besoin d'un identifiant\n",
        "with open (\"/content/drive/My Drive/geonames/extrait_loc.txt\", \"r\") as myfile:\n",
        "    data=myfile.readlines()\n",
        "with open(\"output.xml\", \"w\") as my_coords:\n",
        "  for lieu in data:\n",
        "    print(lieu)\n",
        "    try:\n",
        "      location = geolocator.geocode(lieu, timeout=10)\n",
        "      print((location.latitude, location.longitude))\n",
        "      with tag('lieu', str(lieu)):\n",
        "          with tag('latitude'):\n",
        "            text(str(location.latitude))\n",
        "          with tag('longitude'):\n",
        "            text(str(location.longitude))\n",
        "      result = indent(\n",
        "      doc.getvalue(),\n",
        "      indentation = ' '*4,\n",
        "     newline = '\\n'\n",
        ")\n",
        "      print(result)\n",
        "      my_coords.write(result)\n",
        "    except AttributeError:\n",
        "      print(\"Pas de géolocalisation trouvée\")\n"
      ],
      "execution_count": null,
      "outputs": []
    },
    {
      "cell_type": "code",
      "metadata": {
        "id": "zfnKjSDijvOg"
      },
      "source": [
        "#CRÉER DATAFRAME POUR mutltiple cartes avec coordonnées GPS\n",
        "from geopy.geocoders import Nominatim\n",
        "import pandas as pd\n",
        "\n",
        "geolocator = Nominatim(user_agent=\"marinagiardinetti\") ##Besoin d'un identifiant\n",
        "with open (\"/content/drive/My Drive/geonames/extrait_loc.txt\", \"r\") as myfile:\n",
        "    data=myfile.readlines()\n",
        "\n",
        "df_coords={}\n",
        "with open(\"output.csv\", \"w\") as my_coords:\n",
        "  for lieu in data:\n",
        "    #print(lieu)\n",
        "    try:\n",
        "      location = geolocator.geocode(lieu, timeout=10)\n",
        "      #print((location.latitude, location.longitude))\n",
        "      df_coords = pd.DataFrame.from_dict({\n",
        "'place':[lieu],\n",
        "'lat':[location.latitude],\n",
        "'lon':[location.longitude],\n",
        "})\n",
        "      print(df_coords)\n",
        "      df_coords.to_csv(my_coords, columns= ['place','lat', 'lon'], index = False, header=False)\n",
        "    except AttributeError:\n",
        "      print(\"Pas de géolocalisation trouvée\")\n"
      ],
      "execution_count": null,
      "outputs": []
    },
    {
      "cell_type": "code",
      "metadata": {
        "id": "fEozE3Xet9HV"
      },
      "source": [
        "#### CREATION D'UNE CARTE AVEC PLUSIEURS REPÈRES\n",
        "## Modification du fichier CSV\n",
        "import folium\n",
        "import csv\n",
        "with open('output.csv',newline='') as f:\n",
        "    r = csv.reader(f)\n",
        "    data = [line for line in r]\n",
        "with open('output.csv','w',newline='') as f:\n",
        "    w = csv.writer(f)\n",
        "    w.writerow(['place', 'lat', 'lon'])\n",
        "    w.writerows(data)\n",
        "\n",
        "data_for_map = pd.read_csv(\"output.csv\", error_bad_lines=False, delimiter = \",\")\n",
        "print(data_for_map)\n",
        "\n",
        "# Création de la carte\n",
        "map_test = folium.Map(location=[46.232193, 2.209667], zoom_start=6). ## Ici: carte de la France. \n",
        "\n",
        "def create_map_markers(row, map_name):\n",
        "    folium.Marker(location=[row['lat'], row['lon']], popup=row['place']).add_to(map_name)\n",
        "\n",
        "found_locations = data_for_map[data_for_map['place']!= \"Not Found\"]\n",
        "found_locations.apply(create_map_markers, map_name=map_test, axis='columns')\n",
        "map_test\n",
        "map_test"
      ],
      "execution_count": null,
      "outputs": []
    },
    {
      "cell_type": "code",
      "metadata": {
        "colab": {
          "base_uri": "https://localhost:8080/",
          "height": 654
        },
        "id": "sW1bEHpHqawe",
        "outputId": "702dbb37-8c95-4161-dbdb-66334ea26be4"
      },
      "source": [
        "import folium\n",
        "from folium import plugins\n",
        "\n",
        "m = folium.Map(location=[48.856614, 2.3522219], zoom_start=12)\n",
        "\n",
        "# Lon, Lat order.\n",
        "lines = [\n",
        "    {\n",
        "        \"coordinates\": [\n",
        "            [139.76451516151428, 35.68159659061569],\n",
        "            [139.75964426994324, 35.682590062684206],\n",
        "        ],\n",
        "        \"dates\": [\"2017-06-02T00:00:00\", \"2017-06-02T00:10:00\"],\n",
        "        \"color\": \"red\",\n",
        "    },\n",
        "    {\n",
        "        \"coordinates\": [\n",
        "            [139.75964426994324, 35.682590062684206],\n",
        "            [139.7575843334198, 35.679505030038506],\n",
        "        ],\n",
        "        \"dates\": [\"2017-06-02T00:10:00\", \"2017-06-02T00:20:00\"],\n",
        "        \"color\": \"blue\",\n",
        "    },\n",
        "    {\n",
        "        \"coordinates\": [\n",
        "            [139.7575843334198, 35.679505030038506],\n",
        "            [139.76337790489197, 35.678040905014065],\n",
        "        ],\n",
        "        \"dates\": [\"2017-06-02T00:20:00\", \"2017-06-02T00:30:00\"],\n",
        "        \"color\": \"green\",\n",
        "        \"weight\": 15,\n",
        "    },\n",
        "    {\n",
        "        \"coordinates\": [\n",
        "            [139.76337790489197, 35.678040905014065],\n",
        "            [139.76451516151428, 35.68159659061569],\n",
        "        ],\n",
        "        \"dates\": [\"2017-06-02T00:30:00\", \"2017-06-02T00:40:00\"],\n",
        "        \"color\": \"#FFFFFF\",\n",
        "    },\n",
        "]\n",
        "\n",
        "features = [\n",
        "    {\n",
        "        \"type\": \"Feature\",\n",
        "        \"geometry\": {\n",
        "            \"type\": \"LineString\",\n",
        "            \"coordinates\": line[\"coordinates\"],\n",
        "        },\n",
        "        \"properties\": {\n",
        "            \"times\": line[\"dates\"],\n",
        "            \"style\": {\n",
        "                \"color\": line[\"color\"],\n",
        "                \"weight\": line[\"weight\"] if \"weight\" in line else 5,\n",
        "            },\n",
        "        },\n",
        "    }\n",
        "    for line in lines\n",
        "]\n",
        "\n",
        "plugins.TimestampedGeoJson(\n",
        "    {\n",
        "        \"type\": \"FeatureCollection\",\n",
        "        \"features\": features,\n",
        "    },\n",
        "    period=\"PT1M\",\n",
        "    add_last_point=True,\n",
        ").add_to(m)\n",
        "\n",
        "m"
      ],
      "execution_count": null,
      "outputs": [
        {
          "output_type": "execute_result",
          "data": {
            "text/html": [
              "<div style=\"width:100%;\"><div style=\"position:relative;width:100%;height:0;padding-bottom:60%;\"><span style=\"color:#565656\">Make this Notebook Trusted to load map: File -> Trust Notebook</span><iframe src=\"about:blank\" style=\"position:absolute;width:100%;height:100%;left:0;top:0;border:none !important;\" data-html=%3C%21DOCTYPE%20html%3E%0A%3Chead%3E%20%20%20%20%0A%20%20%20%20%3Cmeta%20http-equiv%3D%22content-type%22%20content%3D%22text/html%3B%20charset%3DUTF-8%22%20/%3E%0A%20%20%20%20%3Cscript%3EL_PREFER_CANVAS%3Dfalse%3B%20L_NO_TOUCH%3Dfalse%3B%20L_DISABLE_3D%3Dfalse%3B%3C/script%3E%0A%20%20%20%20%3Cscript%20src%3D%22https%3A//cdn.jsdelivr.net/npm/leaflet%401.4.0/dist/leaflet.js%22%3E%3C/script%3E%0A%20%20%20%20%3Cscript%20src%3D%22https%3A//code.jquery.com/jquery-1.12.4.min.js%22%3E%3C/script%3E%0A%20%20%20%20%3Cscript%20src%3D%22https%3A//maxcdn.bootstrapcdn.com/bootstrap/3.2.0/js/bootstrap.min.js%22%3E%3C/script%3E%0A%20%20%20%20%3Cscript%20src%3D%22https%3A//cdnjs.cloudflare.com/ajax/libs/Leaflet.awesome-markers/2.0.2/leaflet.awesome-markers.js%22%3E%3C/script%3E%0A%20%20%20%20%3Clink%20rel%3D%22stylesheet%22%20href%3D%22https%3A//cdn.jsdelivr.net/npm/leaflet%401.4.0/dist/leaflet.css%22/%3E%0A%20%20%20%20%3Clink%20rel%3D%22stylesheet%22%20href%3D%22https%3A//maxcdn.bootstrapcdn.com/bootstrap/3.2.0/css/bootstrap.min.css%22/%3E%0A%20%20%20%20%3Clink%20rel%3D%22stylesheet%22%20href%3D%22https%3A//maxcdn.bootstrapcdn.com/bootstrap/3.2.0/css/bootstrap-theme.min.css%22/%3E%0A%20%20%20%20%3Clink%20rel%3D%22stylesheet%22%20href%3D%22https%3A//maxcdn.bootstrapcdn.com/font-awesome/4.6.3/css/font-awesome.min.css%22/%3E%0A%20%20%20%20%3Clink%20rel%3D%22stylesheet%22%20href%3D%22https%3A//cdnjs.cloudflare.com/ajax/libs/Leaflet.awesome-markers/2.0.2/leaflet.awesome-markers.css%22/%3E%0A%20%20%20%20%3Clink%20rel%3D%22stylesheet%22%20href%3D%22https%3A//rawcdn.githack.com/python-visualization/folium/master/folium/templates/leaflet.awesome.rotate.css%22/%3E%0A%20%20%20%20%3Cstyle%3Ehtml%2C%20body%20%7Bwidth%3A%20100%25%3Bheight%3A%20100%25%3Bmargin%3A%200%3Bpadding%3A%200%3B%7D%3C/style%3E%0A%20%20%20%20%3Cstyle%3E%23map%20%7Bposition%3Aabsolute%3Btop%3A0%3Bbottom%3A0%3Bright%3A0%3Bleft%3A0%3B%7D%3C/style%3E%0A%20%20%20%20%0A%20%20%20%20%3Cmeta%20name%3D%22viewport%22%20content%3D%22width%3Ddevice-width%2C%0A%20%20%20%20%20%20%20%20initial-scale%3D1.0%2C%20maximum-scale%3D1.0%2C%20user-scalable%3Dno%22%20/%3E%0A%20%20%20%20%3Cstyle%3E%23map_016aa89c52b64f908029b65b1722a4d5%20%7B%0A%20%20%20%20%20%20%20%20position%3A%20relative%3B%0A%20%20%20%20%20%20%20%20width%3A%20100.0%25%3B%0A%20%20%20%20%20%20%20%20height%3A%20100.0%25%3B%0A%20%20%20%20%20%20%20%20left%3A%200.0%25%3B%0A%20%20%20%20%20%20%20%20top%3A%200.0%25%3B%0A%20%20%20%20%20%20%20%20%7D%0A%20%20%20%20%3C/style%3E%0A%20%20%20%20%3Cscript%20src%3D%22https%3A//cdnjs.cloudflare.com/ajax/libs/jquery/2.0.0/jquery.min.js%22%3E%3C/script%3E%0A%20%20%20%20%3Cscript%20src%3D%22https%3A//cdnjs.cloudflare.com/ajax/libs/jqueryui/1.10.2/jquery-ui.min.js%22%3E%3C/script%3E%0A%20%20%20%20%3Cscript%20src%3D%22https%3A//rawcdn.githack.com/nezasa/iso8601-js-period/master/iso8601.min.js%22%3E%3C/script%3E%0A%20%20%20%20%3Cscript%20src%3D%22https%3A//rawcdn.githack.com/socib/Leaflet.TimeDimension/master/dist/leaflet.timedimension.min.js%22%3E%3C/script%3E%0A%20%20%20%20%3Clink%20rel%3D%22stylesheet%22%20href%3D%22https%3A//cdnjs.cloudflare.com/ajax/libs/highlight.js/8.4/styles/default.min.css%22/%3E%0A%20%20%20%20%3Clink%20rel%3D%22stylesheet%22%20href%3D%22https%3A//rawcdn.githack.com/socib/Leaflet.TimeDimension/master/dist/leaflet.timedimension.control.min.css%22/%3E%0A%20%20%20%20%3Cscript%20src%3D%22https%3A//cdnjs.cloudflare.com/ajax/libs/moment.js/2.18.1/moment.min.js%22%3E%3C/script%3E%0A%3C/head%3E%0A%3Cbody%3E%20%20%20%20%0A%20%20%20%20%0A%20%20%20%20%3Cdiv%20class%3D%22folium-map%22%20id%3D%22map_016aa89c52b64f908029b65b1722a4d5%22%20%3E%3C/div%3E%0A%3C/body%3E%0A%3Cscript%3E%20%20%20%20%0A%20%20%20%20%0A%20%20%20%20%0A%20%20%20%20%20%20%20%20var%20bounds%20%3D%20null%3B%0A%20%20%20%20%0A%0A%20%20%20%20var%20map_016aa89c52b64f908029b65b1722a4d5%20%3D%20L.map%28%0A%20%20%20%20%20%20%20%20%27map_016aa89c52b64f908029b65b1722a4d5%27%2C%20%7B%0A%20%20%20%20%20%20%20%20center%3A%20%5B48.856614%2C%202.3522219%5D%2C%0A%20%20%20%20%20%20%20%20zoom%3A%2012%2C%0A%20%20%20%20%20%20%20%20maxBounds%3A%20bounds%2C%0A%20%20%20%20%20%20%20%20layers%3A%20%5B%5D%2C%0A%20%20%20%20%20%20%20%20worldCopyJump%3A%20false%2C%0A%20%20%20%20%20%20%20%20crs%3A%20L.CRS.EPSG3857%2C%0A%20%20%20%20%20%20%20%20zoomControl%3A%20true%2C%0A%20%20%20%20%20%20%20%20%7D%29%3B%0A%0A%0A%20%20%20%20%0A%20%20%20%20var%20tile_layer_aba355cc5a8440bd8f4d22eccc7c3188%20%3D%20L.tileLayer%28%0A%20%20%20%20%20%20%20%20%27https%3A//%7Bs%7D.tile.openstreetmap.org/%7Bz%7D/%7Bx%7D/%7By%7D.png%27%2C%0A%20%20%20%20%20%20%20%20%7B%0A%20%20%20%20%20%20%20%20%22attribution%22%3A%20null%2C%0A%20%20%20%20%20%20%20%20%22detectRetina%22%3A%20false%2C%0A%20%20%20%20%20%20%20%20%22maxNativeZoom%22%3A%2018%2C%0A%20%20%20%20%20%20%20%20%22maxZoom%22%3A%2018%2C%0A%20%20%20%20%20%20%20%20%22minZoom%22%3A%200%2C%0A%20%20%20%20%20%20%20%20%22noWrap%22%3A%20false%2C%0A%20%20%20%20%20%20%20%20%22opacity%22%3A%201%2C%0A%20%20%20%20%20%20%20%20%22subdomains%22%3A%20%22abc%22%2C%0A%20%20%20%20%20%20%20%20%22tms%22%3A%20false%0A%7D%29.addTo%28map_016aa89c52b64f908029b65b1722a4d5%29%3B%0A%20%20%20%20%0A%20%20%20%20%20%20%20%20%20%20%20%20L.Control.TimeDimensionCustom%20%3D%20L.Control.TimeDimension.extend%28%7B%0A%20%20%20%20%20%20%20%20%20%20%20%20%20%20%20%20_getDisplayDateFormat%3A%20function%28date%29%7B%0A%20%20%20%20%20%20%20%20%20%20%20%20%20%20%20%20%20%20%20%20var%20newdate%20%3D%20new%20moment%28date%29%3B%0A%20%20%20%20%20%20%20%20%20%20%20%20%20%20%20%20%20%20%20%20console.log%28newdate%29%0A%20%20%20%20%20%20%20%20%20%20%20%20%20%20%20%20%20%20%20%20return%20newdate.format%28%22YYYY-MM-DD%20HH%3Amm%3Ass%22%29%3B%0A%20%20%20%20%20%20%20%20%20%20%20%20%20%20%20%20%7D%0A%20%20%20%20%20%20%20%20%20%20%20%20%7D%29%3B%0A%20%20%20%20%20%20%20%20%20%20%20%20map_016aa89c52b64f908029b65b1722a4d5.timeDimension%20%3D%20L.timeDimension%28%7Bperiod%3A%22PT1M%22%7D%29%3B%0A%20%20%20%20%20%20%20%20%20%20%20%20var%20timeDimensionControl%20%3D%20new%20L.Control.TimeDimensionCustom%28%7B%0A%20%20%22autoPlay%22%3A%20true%2C%0A%20%20%22loopButton%22%3A%20false%2C%0A%20%20%22maxSpeed%22%3A%2010%2C%0A%20%20%22minSpeed%22%3A%200.1%2C%0A%20%20%22playerOptions%22%3A%20%7B%0A%20%20%20%20%22loop%22%3A%20true%2C%0A%20%20%20%20%22startOver%22%3A%20true%2C%0A%20%20%20%20%22transitionTime%22%3A%20200%0A%20%20%7D%2C%0A%20%20%22position%22%3A%20%22bottomleft%22%2C%0A%20%20%22timeSliderDragUpdate%22%3A%20false%0A%7D%29%3B%0A%20%20%20%20%20%20%20%20%20%20%20%20map_016aa89c52b64f908029b65b1722a4d5.addControl%28this.timeDimensionControl%29%3B%0A%0A%20%20%20%20%20%20%20%20%20%20%20%20console.log%28%22%22%29%3B%0A%0A%20%20%20%20%20%20%20%20%20%20%20%20var%20geoJsonLayer%20%3D%20L.geoJson%28%7B%22type%22%3A%20%22FeatureCollection%22%2C%20%22features%22%3A%20%5B%7B%22type%22%3A%20%22Feature%22%2C%20%22geometry%22%3A%20%7B%22type%22%3A%20%22LineString%22%2C%20%22coordinates%22%3A%20%5B%5B139.76451516151428%2C%2035.68159659061569%5D%2C%20%5B139.75964426994324%2C%2035.682590062684206%5D%5D%7D%2C%20%22properties%22%3A%20%7B%22times%22%3A%20%5B%222017-06-02T00%3A00%3A00%22%2C%20%222017-06-02T00%3A10%3A00%22%5D%2C%20%22style%22%3A%20%7B%22color%22%3A%20%22red%22%2C%20%22weight%22%3A%205%7D%7D%7D%2C%20%7B%22type%22%3A%20%22Feature%22%2C%20%22geometry%22%3A%20%7B%22type%22%3A%20%22LineString%22%2C%20%22coordinates%22%3A%20%5B%5B139.75964426994324%2C%2035.682590062684206%5D%2C%20%5B139.7575843334198%2C%2035.679505030038506%5D%5D%7D%2C%20%22properties%22%3A%20%7B%22times%22%3A%20%5B%222017-06-02T00%3A10%3A00%22%2C%20%222017-06-02T00%3A20%3A00%22%5D%2C%20%22style%22%3A%20%7B%22color%22%3A%20%22blue%22%2C%20%22weight%22%3A%205%7D%7D%7D%2C%20%7B%22type%22%3A%20%22Feature%22%2C%20%22geometry%22%3A%20%7B%22type%22%3A%20%22LineString%22%2C%20%22coordinates%22%3A%20%5B%5B139.7575843334198%2C%2035.679505030038506%5D%2C%20%5B139.76337790489197%2C%2035.678040905014065%5D%5D%7D%2C%20%22properties%22%3A%20%7B%22times%22%3A%20%5B%222017-06-02T00%3A20%3A00%22%2C%20%222017-06-02T00%3A30%3A00%22%5D%2C%20%22style%22%3A%20%7B%22color%22%3A%20%22green%22%2C%20%22weight%22%3A%2015%7D%7D%7D%2C%20%7B%22type%22%3A%20%22Feature%22%2C%20%22geometry%22%3A%20%7B%22type%22%3A%20%22LineString%22%2C%20%22coordinates%22%3A%20%5B%5B139.76337790489197%2C%2035.678040905014065%5D%2C%20%5B139.76451516151428%2C%2035.68159659061569%5D%5D%7D%2C%20%22properties%22%3A%20%7B%22times%22%3A%20%5B%222017-06-02T00%3A30%3A00%22%2C%20%222017-06-02T00%3A40%3A00%22%5D%2C%20%22style%22%3A%20%7B%22color%22%3A%20%22%23FFFFFF%22%2C%20%22weight%22%3A%205%7D%7D%7D%5D%7D%2C%20%7B%0A%20%20%20%20%20%20%20%20%20%20%20%20%20%20%20%20%20%20%20%20pointToLayer%3A%20function%20%28feature%2C%20latLng%29%20%7B%0A%20%20%20%20%20%20%20%20%20%20%20%20%20%20%20%20%20%20%20%20%20%20%20%20if%20%28feature.properties.icon%20%3D%3D%20%27marker%27%29%20%7B%0A%20%20%20%20%20%20%20%20%20%20%20%20%20%20%20%20%20%20%20%20%20%20%20%20%20%20%20%20if%28feature.properties.iconstyle%29%7B%0A%20%20%20%20%20%20%20%20%20%20%20%20%20%20%20%20%20%20%20%20%20%20%20%20%20%20%20%20%20%20%20%20return%20new%20L.Marker%28latLng%2C%20%7B%0A%20%20%20%20%20%20%20%20%20%20%20%20%20%20%20%20%20%20%20%20%20%20%20%20%20%20%20%20%20%20%20%20%20%20%20%20icon%3A%20L.icon%28feature.properties.iconstyle%29%7D%29%3B%0A%20%20%20%20%20%20%20%20%20%20%20%20%20%20%20%20%20%20%20%20%20%20%20%20%20%20%20%20%7D%0A%20%20%20%20%20%20%20%20%20%20%20%20%20%20%20%20%20%20%20%20%20%20%20%20%20%20%20%20//else%0A%20%20%20%20%20%20%20%20%20%20%20%20%20%20%20%20%20%20%20%20%20%20%20%20%20%20%20%20return%20new%20L.Marker%28latLng%29%3B%0A%20%20%20%20%20%20%20%20%20%20%20%20%20%20%20%20%20%20%20%20%20%20%20%20%7D%0A%20%20%20%20%20%20%20%20%20%20%20%20%20%20%20%20%20%20%20%20%20%20%20%20if%20%28feature.properties.icon%20%3D%3D%20%27circle%27%29%20%7B%0A%20%20%20%20%20%20%20%20%20%20%20%20%20%20%20%20%20%20%20%20%20%20%20%20%20%20%20%20if%20%28feature.properties.iconstyle%29%20%7B%0A%20%20%20%20%20%20%20%20%20%20%20%20%20%20%20%20%20%20%20%20%20%20%20%20%20%20%20%20%20%20%20%20return%20new%20L.circleMarker%28latLng%2C%20feature.properties.iconstyle%29%0A%20%20%20%20%20%20%20%20%20%20%20%20%20%20%20%20%20%20%20%20%20%20%20%20%20%20%20%20%20%20%20%20%7D%3B%0A%20%20%20%20%20%20%20%20%20%20%20%20%20%20%20%20%20%20%20%20%20%20%20%20%20%20%20%20//else%0A%20%20%20%20%20%20%20%20%20%20%20%20%20%20%20%20%20%20%20%20%20%20%20%20%20%20%20%20return%20new%20L.circleMarker%28latLng%29%3B%0A%20%20%20%20%20%20%20%20%20%20%20%20%20%20%20%20%20%20%20%20%20%20%20%20%7D%0A%20%20%20%20%20%20%20%20%20%20%20%20%20%20%20%20%20%20%20%20%20%20%20%20//else%0A%0A%20%20%20%20%20%20%20%20%20%20%20%20%20%20%20%20%20%20%20%20%20%20%20%20return%20new%20L.Marker%28latLng%29%3B%0A%20%20%20%20%20%20%20%20%20%20%20%20%20%20%20%20%20%20%20%20%7D%2C%0A%20%20%20%20%20%20%20%20%20%20%20%20%20%20%20%20%20%20%20%20style%3A%20function%20%28feature%29%20%7B%0A%20%20%20%20%20%20%20%20%20%20%20%20%20%20%20%20%20%20%20%20%20%20%20%20return%20feature.properties.style%3B%0A%20%20%20%20%20%20%20%20%20%20%20%20%20%20%20%20%20%20%20%20%7D%2C%0A%20%20%20%20%20%20%20%20%20%20%20%20%20%20%20%20%20%20%20%20onEachFeature%3A%20function%28feature%2C%20layer%29%20%7B%0A%20%20%20%20%20%20%20%20%20%20%20%20%20%20%20%20%20%20%20%20%20%20%20%20if%20%28feature.properties.popup%29%20%7B%0A%20%20%20%20%20%20%20%20%20%20%20%20%20%20%20%20%20%20%20%20%20%20%20%20layer.bindPopup%28feature.properties.popup%29%3B%0A%20%20%20%20%20%20%20%20%20%20%20%20%20%20%20%20%20%20%20%20%20%20%20%20%7D%0A%20%20%20%20%20%20%20%20%20%20%20%20%20%20%20%20%20%20%20%20%7D%0A%20%20%20%20%20%20%20%20%20%20%20%20%20%20%20%20%7D%29%0A%0A%20%20%20%20%20%20%20%20%20%20%20%20var%20timestamped_geo_json_b8799177140b47029fe262180bac0630%20%3D%20L.timeDimension.layer.geoJson%28geoJsonLayer%2C%0A%20%20%20%20%20%20%20%20%20%20%20%20%20%20%20%20%7BupdateTimeDimension%3A%20true%2C%0A%20%20%20%20%20%20%20%20%20%20%20%20%20%20%20%20%20addlastPoint%3A%20true%2C%0A%20%20%20%20%20%20%20%20%20%20%20%20%20%20%20%20%20duration%3A%20undefined%2C%0A%20%20%20%20%20%20%20%20%20%20%20%20%20%20%20%20%7D%29.addTo%28map_016aa89c52b64f908029b65b1722a4d5%29%3B%0A%20%20%20%20%20%20%20%20%0A%3C/script%3E onload=\"this.contentDocument.open();this.contentDocument.write(    decodeURIComponent(this.getAttribute('data-html')));this.contentDocument.close();\" allowfullscreen webkitallowfullscreen mozallowfullscreen></iframe></div></div>"
            ],
            "text/plain": [
              "<folium.folium.Map at 0x7fdedff1a160>"
            ]
          },
          "metadata": {
            "tags": []
          },
          "execution_count": 13
        }
      ]
    }
  ]
}