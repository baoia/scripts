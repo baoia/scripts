{
 "cells": [
  {
   "cell_type": "markdown",
   "metadata": {
    "id": "mse8jhgzqTnk"
   },
   "source": [
    "##**Outil permettant l'extraction automatisée des pages de fichiers en JPG.**"
   ]
  },
  {
   "cell_type": "markdown",
   "metadata": {
    "id": "983ksJxghTlg"
   },
   "source": [
    "## Installation des libraires\n",
    "\n",
    "1- Exécuter les deux cellules pour installer / importer les librairies nécessaires."
   ]
  },
  {
   "cell_type": "code",
   "execution_count": 1,
   "metadata": {
    "colab": {
     "base_uri": "https://localhost:8080/"
    },
    "executionInfo": {
     "elapsed": 5527,
     "status": "ok",
     "timestamp": 1605529774503,
     "user": {
      "displayName": "Marina Giardinetti",
      "photoUrl": "https://lh3.googleusercontent.com/a-/AOh14GhzFClmHFt_sLjYNpg8oGdvPT0Yqc4sNFC3shRGzA=s64",
      "userId": "03699705705861863524"
     },
     "user_tz": -60
    },
    "id": "x2DpL-83pwto",
    "outputId": "99764a92-7956-4d83-d2b2-7ca96edc0382"
   },
   "outputs": [
    {
     "name": "stdout",
     "output_type": "stream",
     "text": [
      "Collecting PyMuPDF==1.16.14\n",
      "\u001b[?25l  Downloading https://files.pythonhosted.org/packages/95/ed/52b7747088797318a2e558f390f0edcd0ae174b9371abf3cbb6d6a63a552/PyMuPDF-1.16.14-cp36-cp36m-manylinux2010_x86_64.whl (5.7MB)\n",
      "\u001b[K     |████████████████████████████████| 5.7MB 8.9MB/s \n",
      "\u001b[?25hInstalling collected packages: PyMuPDF\n",
      "Successfully installed PyMuPDF-1.16.14\n"
     ]
    }
   ],
   "source": [
    "pip install PyMuPDF==1.16.14"
   ]
  },
  {
   "cell_type": "code",
   "execution_count": 2,
   "metadata": {
    "colab": {
     "base_uri": "https://localhost:8080/"
    },
    "executionInfo": {
     "elapsed": 4313,
     "status": "ok",
     "timestamp": 1605529782120,
     "user": {
      "displayName": "Marina Giardinetti",
      "photoUrl": "https://lh3.googleusercontent.com/a-/AOh14GhzFClmHFt_sLjYNpg8oGdvPT0Yqc4sNFC3shRGzA=s64",
      "userId": "03699705705861863524"
     },
     "user_tz": -60
    },
    "id": "15CX5W4G0Jbs",
    "outputId": "31f72d6e-df93-4d3a-f107-12922a4ab12b"
   },
   "outputs": [
    {
     "name": "stdout",
     "output_type": "stream",
     "text": [
      "Collecting PyMuPDF\n",
      "\u001b[?25l  Downloading https://files.pythonhosted.org/packages/81/75/442a1bcc89569453969f34a53000e8a80e3da13367e3e29b81b5137ef388/PyMuPDF-1.18.3-cp36-cp36m-manylinux2010_x86_64.whl (6.3MB)\n",
      "\u001b[K     |████████████████████████████████| 6.3MB 7.5MB/s \n",
      "\u001b[?25hInstalling collected packages: PyMuPDF\n",
      "  Found existing installation: PyMuPDF 1.16.14\n",
      "    Uninstalling PyMuPDF-1.16.14:\n",
      "      Successfully uninstalled PyMuPDF-1.16.14\n",
      "Successfully installed PyMuPDF-1.18.3\n"
     ]
    }
   ],
   "source": [
    "!pip install --upgrade PyMuPDF\n",
    "\n",
    "from google.colab import drive\n",
    "import fitz\n",
    "import io\n",
    "import glob\n",
    "import re\n",
    "import os\n",
    "from PIL import Image"
   ]
  },
  {
   "cell_type": "markdown",
   "metadata": {
    "id": "JsJhl5mNiA-x"
   },
   "source": [
    "## Organisation des fichiers et Google Drive\n",
    "\n",
    "1 - Créer un dossier dans votre Google Drive contenant les fichers PDFs (ici, il s'appelle dossier_pdf).\n",
    "\n",
    "2- Sur la cellule ci-dessous: remplacer dossier_df par le nom de votre dossier. Exécutez la cellule et suivre les instructions: un lien est généré vous proposant de vous connecter à votre compte. Copiez le code, collez le en dessous de la cellule puis appuyez sur \"Enter\"."
   ]
  },
  {
   "cell_type": "code",
   "execution_count": null,
   "metadata": {
    "colab": {
     "base_uri": "https://localhost:8080/"
    },
    "executionInfo": {
     "elapsed": 20784,
     "status": "ok",
     "timestamp": 1604649539021,
     "user": {
      "displayName": "Marina Giardinetti",
      "photoUrl": "https://lh3.googleusercontent.com/a-/AOh14GhzFClmHFt_sLjYNpg8oGdvPT0Yqc4sNFC3shRGzA=s64",
      "userId": "03699705705861863524"
     },
     "user_tz": -60
    },
    "id": "npZF3gsrwwRh",
    "outputId": "bcba28f4-4721-41f2-ffd6-164e97143cb7"
   },
   "outputs": [
    {
     "name": "stdout",
     "output_type": "stream",
     "text": [
      "Mounted at /content/drive/\n",
      "/content/drive/My Drive/dossier_pdf/jugend_heidelberg\n"
     ]
    }
   ],
   "source": [
    "drive.mount('/content/drive/')\n",
    "%cd /content/drive/My Drive/dossier_pdf/\n"
   ]
  },
  {
   "cell_type": "markdown",
   "metadata": {
    "id": "ud8C-ZbijLCb"
   },
   "source": [
    "## Extraction des PDFs en JPG\n",
    "\n",
    "1- Remplacez sur la première ligne de la cellule le chemin des fichiers PDF, ici contenus dans le dossier créé précédemment dossier_pdf situé sur le drive: \"/content/drive/My Drive/dossier_pdf/*.pdf\". \n",
    "\n",
    "2- Exécutez la cellule\n",
    "\n",
    "3- On peut voir le nombre d'images trouvées dans les fichiers PDF défiler en bas de la cellule.\n",
    "\n",
    "4- Les images sont enregistrées dans le même dossier. \n"
   ]
  },
  {
   "cell_type": "code",
   "execution_count": null,
   "metadata": {
    "colab": {
     "base_uri": "https://localhost:8080/"
    },
    "executionInfo": {
     "elapsed": 3314,
     "status": "ok",
     "timestamp": 1604651409252,
     "user": {
      "displayName": "Marina Giardinetti",
      "photoUrl": "https://lh3.googleusercontent.com/a-/AOh14GhzFClmHFt_sLjYNpg8oGdvPT0Yqc4sNFC3shRGzA=s64",
      "userId": "03699705705861863524"
     },
     "user_tz": -60
    },
    "id": "xYuJ0A1JebAD",
    "outputId": "e26e0f01-618b-4dcb-9005-18a4bda479c8"
   },
   "outputs": [
    {
     "name": "stdout",
     "output_type": "stream",
     "text": [
      "[+] Found a total of 1 images in page 0\n",
      "[+] Found a total of 1 images in page 1\n",
      "[+] Found a total of 1 images in page 2\n",
      "[+] Found a total of 1 images in page 3\n",
      "[+] Found a total of 1 images in page 4\n",
      "[+] Found a total of 1 images in page 5\n",
      "[+] Found a total of 1 images in page 6\n",
      "[+] Found a total of 1 images in page 7\n",
      "[+] Found a total of 1 images in page 8\n",
      "[+] Found a total of 1 images in page 9\n",
      "[+] Found a total of 1 images in page 10\n",
      "[+] Found a total of 1 images in page 11\n",
      "[+] Found a total of 1 images in page 12\n",
      "[+] Found a total of 1 images in page 13\n",
      "[+] Found a total of 1 images in page 14\n"
     ]
    }
   ],
   "source": [
    "for file in glob.glob(\"/content/drive/My Drive/dossier_pdf/*.pdf\"):\n",
    "  pdf_file = fitz.open(file)\n",
    "  for page_index in range(len(pdf_file)):\n",
    "    page = pdf_file[page_index]\n",
    "    image_list = page.getImageList()\n",
    "    if image_list:\n",
    "          print(f\"[+] Found a total of {len(image_list)} images in page {page_index}\")\n",
    "    else:\n",
    "          print(\"[!] No images found on page\", page_index)\n",
    "    for image_index, img in enumerate(page.getImageList(), start=1):\n",
    "        xref = img[0]\n",
    "        base_image = pdf_file.extractImage(xref)\n",
    "        image_bytes = base_image[\"image\"]\n",
    "        image_ext = base_image[\"ext\"]\n",
    "        image = Image.open(io.BytesIO(image_bytes))\n",
    "        images = image.save(open(f\"{file}_{page_index+1}.{image_ext}\", \"wb\"))"
   ]
  },
  {
   "cell_type": "markdown",
   "metadata": {
    "id": "Bg0aZIeSh2CI"
   },
   "source": [
    "## Renomer les fichiers .jpeg créés pour obtenir: \n",
    "\n",
    "nompériodique_année_numéro-page.jpeg"
   ]
  },
  {
   "cell_type": "code",
   "execution_count": null,
   "metadata": {
    "id": "eeCjWnpkacXK"
   },
   "outputs": [],
   "source": [
    "for filename in glob.glob(\"/content/drive/My Drive/dossier_pdf/*.jpeg\"):\n",
    "  new_name = re.sub(\".pdf_\", r'-', filename)\n",
    "  os.rename(filename, new_name)"
   ]
  }
 ],
 "metadata": {
  "colab": {
   "collapsed_sections": [],
   "name": "jpgtopdf.ipynb",
   "provenance": []
  },
  "kernelspec": {
   "display_name": "Python 3",
   "language": "python",
   "name": "python3"
  },
  "language_info": {
   "codemirror_mode": {
    "name": "ipython",
    "version": 3
   },
   "file_extension": ".py",
   "mimetype": "text/x-python",
   "name": "python",
   "nbconvert_exporter": "python",
   "pygments_lexer": "ipython3",
   "version": "3.8.3"
  }
 },
 "nbformat": 4,
 "nbformat_minor": 1
}
