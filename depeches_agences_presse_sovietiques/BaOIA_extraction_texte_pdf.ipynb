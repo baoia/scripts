{
  "nbformat": 4,
  "nbformat_minor": 0,
  "metadata": {
    "colab": {
      "name": "extraction texte PDF_pourgithub.ipynb",
      "provenance": [],
      "collapsed_sections": []
    },
    "kernelspec": {
      "name": "python3",
      "display_name": "Python 3"
    },
    "language_info": {
      "name": "python"
    }
  },
  "cells": [
    {
      "cell_type": "markdown",
      "source": [
        "# Extraction du texte d'un PDF\n",
        "\n",
        "Ce notebook permet de récupérer le texte d'un PDF dans un fichier Excel contenant deux colonnes : numéro de page et texte.\n",
        "\n",
        "Le PDF à traiter doit se trouver sur Google Drive."
      ],
      "metadata": {
        "id": "o20hpBwFl95I"
      }
    },
    {
      "cell_type": "code",
      "execution_count": null,
      "metadata": {
        "id": "l_pP9HMJ8C9d",
        "cellView": "form"
      },
      "outputs": [],
      "source": [
        "#@markdown # Connexion du notebook à un compte Google Drive\n",
        "\n",
        "#@markdown - Lancer la cellule\n",
        "#@markdown - Cliquer sur « Exécuter malgré tout » lors de l’apparition du message d’avertissement indiquant que le notebook n’a pas été créé par Google\n",
        "#@markdown - Cliquer sur « Se connecter à Google Drive » lors de l’apparition du second message d’avertissement pour donner l’autorisation au notebook d’accéder à vos fichiers Google Drive\n",
        "#@markdown - Choisir son compte Gmail puis cliquer sur « Autoriser »\n",
        "\n",
        "!pip install pypdf2\n",
        "from google.colab import drive\n",
        "import os\n",
        "import pandas as pd\n",
        "from PyPDF2 import PdfFileReader\n",
        "drive.mount('/content/drive/')\n",
        "%cd /content/drive/My Drive/"
      ]
    },
    {
      "cell_type": "code",
      "source": [
        "#@markdown # Récupération du texte d'un PDF\n",
        "\n",
        "#@markdown Indiquer le chemin absolu vers le PDF sur le Google Drive :\n",
        "chemin_vers_pdf = '/content/drive/My Drive/PDF/document.pdf'#@param {type:\"string\"}\n",
        "\n",
        "#@markdown Indiquer le chemin du fichier de sortie :\n",
        "chemin_fichier_sortie = '/content/drive/My Drive/PDF/resultat.xlsx'#@param {type:\"string\"}\n",
        "\n",
        "\n",
        "# Analyse du PDF\n",
        "pdf = PdfFileReader(chemin_vers_pdf)\n",
        "\n",
        "liste_nombrePage = []\n",
        "liste_texte = []\n",
        "\n",
        "for page_num in range(pdf.numPages):\n",
        "  pageObj = pdf.getPage(page_num)\n",
        "\n",
        "  try:\n",
        "    txt = pageObj.extractText()\n",
        "    txt = txt.replace('\\n', ' ')\n",
        "    txt = txt.replace('¬ ', '')\n",
        "    txt = txt.replace('  ', ' ')\n",
        "  except:\n",
        "    pass\n",
        "  else:\n",
        "    liste_nombrePage.append(page_num+1)\n",
        "    liste_texte.append(txt)\n",
        "\n",
        "data = {\n",
        "  'Numéro de page': liste_nombrePage, \n",
        "  'Texte': liste_texte\n",
        "}\n",
        "\n",
        "df = pd.DataFrame(data)\n",
        "\n",
        "df.to_excel(chemin_fichier_sortie, index=False)"
      ],
      "metadata": {
        "id": "Tzqk3eIoV5F3",
        "cellView": "form"
      },
      "execution_count": null,
      "outputs": []
    }
  ]
}