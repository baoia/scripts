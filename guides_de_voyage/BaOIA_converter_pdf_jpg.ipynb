{
  "nbformat": 4,
  "nbformat_minor": 0,
  "metadata": {
    "colab": {
      "name": "pdf_to_jpg.ipynb",
      "provenance": [],
      "collapsed_sections": []
    },
    "kernelspec": {
      "name": "python3",
      "display_name": "Python 3"
    }
  },
  "cells": [
    {
      "cell_type": "markdown",
      "metadata": {
        "id": "mse8jhgzqTnk"
      },
      "source": [
        "##**Outil permettant l'extraction automatisée des pages de fichiers en JPG.**"
      ]
    },
    {
      "cell_type": "markdown",
      "metadata": {
        "id": "983ksJxghTlg"
      },
      "source": [
        "## Installation des libraires\n",
        "\n",
        "1- Exécuter les deux cellules pour installer / importer les librairies nécessaires."
      ]
    },
    {
      "cell_type": "code",
      "metadata": {
        "id": "x2DpL-83pwto"
      },
      "source": [
        "pip install PyMuPDF==1.16.14"
      ],
      "execution_count": null,
      "outputs": []
    },
    {
      "cell_type": "code",
      "metadata": {
        "id": "15CX5W4G0Jbs"
      },
      "source": [
        "!pip install --upgrade PyMuPDF\n",
        "\n",
        "from google.colab import drive\n",
        "import fitz\n",
        "import io\n",
        "import glob\n",
        "import re\n",
        "import os\n",
        "from PIL import Image"
      ],
      "execution_count": null,
      "outputs": []
    },
    {
      "cell_type": "markdown",
      "metadata": {
        "id": "JsJhl5mNiA-x"
      },
      "source": [
        "## Organisation des fichiers et Google Drive\n",
        "\n",
        "1 - Créer un dossier dans votre Google Drive contenant les fichers PDFs (ici, il s'appelle dossier_pdf).\n",
        "\n",
        "2- Sur la cellule ci-dessous: remplacer dossier_df par le nom de votre dossier. Exécutez la cellule et suivre les instructions: un lien est généré vous proposant de vous connecter à votre compte. Copiez le code, collez le en dessous de la cellule puis appuyez sur \"Enter\"."
      ]
    },
    {
      "cell_type": "code",
      "metadata": {
        "id": "npZF3gsrwwRh"
      },
      "source": [
        "drive.mount('/content/drive/')\n",
        "%cd /content/drive/My Drive/dossier_pdf/jugend_heidelberg/\n"
      ],
      "execution_count": null,
      "outputs": []
    },
    {
      "cell_type": "markdown",
      "metadata": {
        "id": "ud8C-ZbijLCb"
      },
      "source": [
        "## Extraction des PDFs en JPG\n",
        "\n",
        "1- Remplacez sur la première ligne de la cellule le chemin des fichiers PDF, ici contenus dans le dossier créé précédemment dossier_pdf situé sur le drive: \"/content/drive/My Drive/dossier_pdf/*.pdf\". \n",
        "\n",
        "2- Exécutez la cellule\n",
        "\n",
        "3- On peut voir le nombre d'images trouvées dans les fichiers PDF défiler en bas de la cellule.\n",
        "\n",
        "4- Les images sont enregistrées dans le même dossier. \n"
      ]
    },
    {
      "cell_type": "code",
      "metadata": {
        "id": "xYuJ0A1JebAD"
      },
      "source": [
        "for file in glob.glob(\"/content/drive/My Drive/dossier_pdf/jugend_heidelberg/*.pdf\"):\n",
        "  pdf_file = fitz.open(file)\n",
        "  for page_index in range(len(pdf_file)):\n",
        "    page = pdf_file[page_index]\n",
        "    image_list = page.getImageList()\n",
        "    if image_list:\n",
        "          print(f\"[+] Found a total of {len(image_list)} images in page {page_index}\")\n",
        "    else:\n",
        "          print(\"[!] No images found on page\", page_index)\n",
        "    for image_index, img in enumerate(page.getImageList(), start=1):\n",
        "        xref = img[0]\n",
        "        base_image = pdf_file.extractImage(xref)\n",
        "        image_bytes = base_image[\"image\"]\n",
        "        image_ext = base_image[\"ext\"]\n",
        "        image = Image.open(io.BytesIO(image_bytes))\n",
        "        images = image.save(open(f\"{file}_{page_index+1}.{image_ext}\", \"wb\"))"
      ],
      "execution_count": null,
      "outputs": []
    },
    {
      "cell_type": "markdown",
      "metadata": {
        "id": "Bg0aZIeSh2CI"
      },
      "source": [
        "## Renomer les fichiers .jpeg créés pour obtenir: \n",
        "\n",
        "nompériodique_année_numéro-page.jpeg"
      ]
    },
    {
      "cell_type": "code",
      "metadata": {
        "id": "eeCjWnpkacXK"
      },
      "source": [
        "for filename in glob.glob(\"/content/drive/My Drive/dossier_pdf/jugend_heidelberg/*.jpeg\"):\n",
        "  new_name = re.sub(\".pdf_\", r'-', filename)\n",
        "  os.rename(filename, new_name)"
      ],
      "execution_count": null,
      "outputs": []
    }
  ]
}