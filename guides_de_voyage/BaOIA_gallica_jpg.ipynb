{
  "nbformat": 4,
  "nbformat_minor": 0,
  "metadata": {
    "colab": {
      "name": "BaOIA_gallica_jpg.ipynb",
      "provenance": [],
      "collapsed_sections": []
    },
    "kernelspec": {
      "display_name": "Python 3",
      "name": "python3"
    }
  },
  "cells": [
    {
      "cell_type": "markdown",
      "metadata": {
        "id": "hC3e0Md9lYvW"
      },
      "source": [
        "# **Récupération automatique de document de Gallica en fichiers JPG**\n",
        "\n",
        "*À fournir en entrée* : L'identifiant ARK du document dans Gallica, les limites des pages du document et le titre des fichiers téléchargés.\n",
        "\n",
        "*Documents de sortie* : Les fichiers JPG de chaque page du document souhaité dans le dossier de travail indiqué, leur nom contient le numéro de la page.\n"
      ]
    },
    {
      "cell_type": "code",
      "metadata": {
        "id": "JANJi8BBNjFQ",
        "cellView": "form"
      },
      "source": [
        "#@markdown # Connecter le notebook à son compte Google Drive :\n",
        "\n",
        "#@markdown - Lancer la cellule\n",
        "#@markdown - Cliquer sur « Exécuter malgré tout » lors de l’apparition du message d’avertissement indiquant que le notebook n’a pas été créé par Google\n",
        "#@markdown - Cliquer sur « Se connecter à Google Drive » lors de l’apparition du second message d’avertissement pour donner l’autorisation au notebook d’accéder à vos fichiers Google Drive\n",
        "#@markdown - Choisir son compte Gmail puis cliquer sur « Autoriser »\n",
        "\n",
        "# Installation des librairies nécessaires \n",
        "from google.colab import drive\n",
        "from bs4 import BeautifulSoup\n",
        "import urllib.request, urllib.error, urllib.parse\n",
        "import re\n",
        "import os\n",
        "\n",
        "drive.mount('/content/drive/')\n",
        "%cd /content/drive/My Drive/\n",
        "\n",
        "#@markdown ###Indiquer le chemin vers le dossier de travail sur le Google Drive (si le dossier n'existe pas, il sera créé lors du lancement de la cellule) :\n",
        "chemin_vers_le_dossier_de_travail = '/content/drive/My Drive/gallica/'#@param {type:\"string\"}\n",
        "\n",
        "if not os.path.exists(chemin_vers_le_dossier_de_travail):\n",
        "      os.makedirs(chemin_vers_le_dossier_de_travail)\n",
        "os.chdir(chemin_vers_le_dossier_de_travail)"
      ],
      "execution_count": null,
      "outputs": []
    },
    {
      "cell_type": "code",
      "metadata": {
        "id": "8MN_2rWOaQz7",
        "cellView": "form"
      },
      "source": [
        "#@markdown # Extraction JPG du document tiré de Gallica :\n",
        "\n",
        "#@markdown #### Indiquer ci-dessous l'identifiant ARK de Gallica souhaité :\n",
        "#@markdown Par exemple, le document souhaité se nomme \"Guide du voyageur en Europe\" et est trouvable sur Gallica grâce au lien suivant : https://gallica.bnf.fr/ark:/12148/bpt6k321357n/. L'identifiant ARK est alors tout ce qui se trouve après \"https://gallica.bnf.fr/\". Il est également repérable sur le document Gallica en cliquant sur \"En savoir plus\" à gauche de l'écran.\n",
        "identifiant_ark_gallica = 'ark:/12148/bpt6k321357n/'#@param {type:\"string\"}\n",
        "\n",
        "#@markdown #### Indiquer la première page du document souhaité :\n",
        "premiere_page = 1#@param {type:\"integer\"}\n",
        "\n",
        "#@markdown #### Indiquer la dernière page du document souhaité :\n",
        "derniere_page = 2#@param {type:\"integer\"}\n",
        "\n",
        "#@markdown #### Indiquer le nom des fichiers créés :\n",
        "titre_fichiers = 'guide du voyageur en Europe'#@param {type:\"string\"}\n",
        "\n",
        "def jpg(firstpage=premiere_page, lastpage=derniere_page):\n",
        "    lastpage+=1\n",
        "    listpage = range(firstpage, lastpage)\n",
        "    for page in listpage:\n",
        "        jpgfile = titre_fichiers + \"_\" + str(page) + \".jpg\"\n",
        "        url = 'http://gallica.bnf.fr/iiif/' + identifiant_ark_gallica + '/f' + str(page) + '/full/3000/0/native.jpg'\n",
        "        urllib.request.urlretrieve(url, jpgfile)\n",
        "\n",
        "jpg()"
      ],
      "execution_count": 2,
      "outputs": []
    }
  ]
}