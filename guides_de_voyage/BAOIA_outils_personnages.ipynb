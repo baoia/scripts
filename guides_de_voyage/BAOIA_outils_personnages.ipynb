{
  "nbformat": 4,
  "nbformat_minor": 0,
  "metadata": {
    "colab": {
      "name": "BAOIA_outils_personnages.ipynb",
      "provenance": [],
      "collapsed_sections": []
    },
    "kernelspec": {
      "name": "python3",
      "display_name": "Python 3"
    }
  },
  "cells": [
    {
      "cell_type": "markdown",
      "metadata": {
        "id": "L_inragK-zKT"
      },
      "source": [
        "# Outils de recherches sur les personnages tirés d'une document\n",
        "\n",
        "Fichier nécessaire: un fochier en format .txt contenant la liste des noms de lieux à recenser sur la carte.\n",
        "\n",
        "Outils disponibles\n",
        "- Récupération automatique d'informations biographiques sur les personnages \n",
        "- Travail statistique sur les informations choisies : sur les dates de naissances ou le genre des personnages.\n",
        "\n",
        "Les données concernant les personnages sont enregistrées sous forme de tableau. \n",
        "\n",
        "**Avant de lancer le notebook:**\n",
        "- Créer un dossier sur son Google Drive intitulé \"Etude-personnages\".\n",
        "- Placer dans ce dossier ce notebook ainsi que le fichier .txt contenant la liste des personnages.\n"
      ]
    },
    {
      "cell_type": "markdown",
      "metadata": {
        "id": "VTDgQLZW_f0n"
      },
      "source": [
        "## Connexion à son compte GoogleDrive:\n",
        "\n",
        "- Lancer la cellule\n",
        "- Cliquer sur le lien généré en dessous\n",
        "Copier le mot de passe dans la nouvelle fenêtre ouverte où l'accès au compte est requis et le coller en dessous de la cellule."
      ]
    },
    {
      "cell_type": "code",
      "metadata": {
        "colab": {
          "base_uri": "https://localhost:8080/"
        },
        "id": "hh41MmuyCr3O",
        "outputId": "84f30bee-23e8-4519-8865-02f427a52563"
      },
      "source": [
        "from google.colab import drive\n",
        "import re\n",
        "import itertools\n",
        "import json\n",
        "import urllib.parse, urllib.request, json\n",
        "import collections\n",
        "from collections import Counter\n",
        "\n",
        "drive.mount('/content/drive/')\n",
        "%cd /content/drive/My Drive/Etude_personnages/"
      ],
      "execution_count": null,
      "outputs": [
        {
          "output_type": "stream",
          "text": [
            "Drive already mounted at /content/drive/; to attempt to forcibly remount, call drive.mount(\"/content/drive/\", force_remount=True).\n",
            "/content/drive/MyDrive/etude_personnages\n"
          ],
          "name": "stdout"
        }
      ]
    },
    {
      "cell_type": "markdown",
      "metadata": {
        "id": "FN8fz-sTAKCW"
      },
      "source": [
        "## Récupération des identifiants personnages les reliant aux données issues de Wikidata:\n",
        "\n",
        "- Changer la langue si nécessaire (par défaut: français)\n",
        "- Si la détéction n'est pas assez précise, descendre \"thresold\" à 0.8 (moins de noms vont être identifiés), dans la cas contraire, monter le seuil à 1. Par défaut, il est placé à une valeur moyenne de 0.9\n",
        "- Indiquer le chemin du fichier .txt avec la liste des personnages à la fin de la cellule suivant, au niveau de l'avant-avant dernière ligne. Ici, le fichier se nomme \"liste_personnages.txt\".\n",
        "- Il est possible de changer le nom du fichier de sortie (fichier .txt avec liste des identifiants)."
      ]
    },
    {
      "cell_type": "code",
      "metadata": {
        "id": "P7ELMiv6bNI1",
        "colab": {
          "base_uri": "https://localhost:8080/"
        },
        "outputId": "124f0d39-225d-477e-eade-cad6b47e8ad5"
      },
      "source": [
        "%cd /content/drive/My Drive/Etude_personnages/\n",
        "def CallWikifier(text, lang=\"fr\", threshold=0.9): ### Changer ici la langue et le seuil si nécessaire\n",
        "    data = urllib.parse.urlencode([\n",
        "        (\"text\", text), (\"lang\", lang),\n",
        "        (\"userKey\", \"nqvsutgqswvfmrcvyxjtopvpiukjtp\"),\n",
        "        (\"pageRankSqThreshold\", \"%g\" % threshold), (\"applyPageRankSqThreshold\", \"true\"),\n",
        "        (\"nTopDfValuesToIgnore\", \"200\"), (\"nWordsToIgnoreFromList\", \"200\"),\n",
        "        (\"wikiDataClasses\", \"true\"), (\"wikiDataClassIds\", \"false\"),\n",
        "        (\"support\", \"true\"), (\"ranges\", \"false\"), (\"minLinkFrequency\", \"\"),\n",
        "        (\"includeCosines\", \"false\"), (\"maxMentionEntropy\", \"3\")\n",
        "        ])\n",
        "    url = \"http://www.wikifier.org/annotate-article\"\n",
        "# Appel de wikifier pour récupérer les informations:\n",
        "    req = urllib.request.Request(url, data=data.encode(\"utf8\"), method=\"POST\")\n",
        "    with urllib.request.urlopen(req, timeout = 100) as f:\n",
        "        response = f.read()\n",
        "        response = json.loads(response.decode(\"utf8\"))\n",
        "# Enregistrement des \"ID\" wikidata des personnages dans un fichier texte:\n",
        "    with open('identifiants_personnages.txt', 'w') as outfile:\n",
        "        for annotation in response[\"annotations\"]:\n",
        "          itemid = annotation[\"wikiDataItemId\"]\n",
        "          itemid2 = \"\".join([str(itemid),\" \"])\n",
        "          outfile.write(itemid2)\n",
        "          \n",
        "with open(\"/content/drive/MyDrive/Etude_personnages/liste_personnages.txt\", \"r\") as myfile:\n",
        "  liste=myfile.readlines()\n",
        "  CallWikifier(text=liste, lang=\"fr\")\n"
      ],
      "execution_count": null,
      "outputs": [
        {
          "output_type": "stream",
          "text": [
            "/content/drive/My Drive/etude_personnages\n"
          ],
          "name": "stdout"
        }
      ]
    },
    {
      "cell_type": "markdown",
      "metadata": {
        "id": "B5jDD5J-CFcx"
      },
      "source": [
        "## Récupération du genre de chaque personnage identifié avec Wikidata:\n",
        "\n",
        "- La cellule suivante récupère le genre dans lequel est classé le personnage dans Wikidata. \n",
        "\n",
        "- Indiquer le chemin vers le fichier texte avec les identifiantrs wikidata récupérés précédemment (ligne 7). \n"
      ]
    },
    {
      "cell_type": "code",
      "metadata": {
        "id": "oYHvhE4RoOU1"
      },
      "source": [
        "!pip uninstall wptools\n",
        "!pip install wptools==0.1.6\n",
        "import wptools\n",
        "\n",
        "%cd /content/drive/MyDrive/Etude_personnages/\n",
        "\n",
        "a_file = open(\"/content/drive/MyDrive/Etude_personnages/identifiants_personnages.txt\", \"r\")\n",
        "list_genre=[]\n",
        "with open(\"liste_genre.txt\", 'w') as outfilegenre:\n",
        "  for line in a_file:\n",
        "    for word in line.split(): \n",
        "      try:\n",
        "        recherche_genre = wptools.page(wikibase=word, lang=\"fr\")\n",
        "        recherche_genre.WIKIPROPS['P21'] = 'gender'\n",
        "        recherche_genre.get_wikidata()\n",
        "        genre=recherche_genre.wikidata['gender']\n",
        "      except KeyError as err:\n",
        "        genre=\"None\"\n",
        "      genre2 = \"\".join([str(genre),\" \"])\n",
        "      outfilegenre.write(genre2)\n",
        "\n",
        "liste_genres = []\n",
        "with open(\"liste_genre.txt\", \"r\") as f:\n",
        "    for line in f:\n",
        "        liste_genres.extend(line.split())\n",
        "        print(liste_genres)"
      ],
      "execution_count": null,
      "outputs": []
    },
    {
      "cell_type": "markdown",
      "metadata": {
        "id": "w6IwhZdGJAqv"
      },
      "source": [
        "## Récupération de toutes les informations sur les personnages :\n",
        "\n",
        "- La cellule suivante récupère certaines informations sur les personnages : la date de naissance et de décès, le lieu de naissance et de décès.\n",
        "\n",
        "- Toutes les informations, avec le genre récupéré dans la cellule précédente sont enregistrés sous la forme d'un fichier .json (\"donnees_personnages.json\") pour la suite de l'utilisation du notebook, ainsi que sous la forme d'un fichier Excel (\"informations_personnages.xlsx\")"
      ]
    },
    {
      "cell_type": "code",
      "metadata": {
        "id": "ND5ATiiUjV7p"
      },
      "source": [
        "### Récupère les informations sur les personnages, créée un fichier json avec toutes les infos\n",
        "!pip install --upgrade wptools\n",
        "%cd /content/drive/MyDrive/Etude_personnages/\n",
        "\n",
        "donnees ={}\n",
        "nom = []\n",
        "date_naissance_search = []\n",
        "date_deces_search = []\n",
        "lieu_naissance_net = []\n",
        "lieu_deces_net = []\n",
        "genre=[]\n",
        "with open(\"liste_genre.txt\", \"r\") as f:\n",
        "    with open(\"/content/drive/MyDrive/Etude_personnages/identifiants_personnages.txt\", \"r\") as a_file:\n",
        "      with open(\"donnees_personnages.json\", \"w\") as fichier : \n",
        "        for line in a_file:\n",
        "          for line2 in f:\n",
        "            for word, sexe in zip(line.split(), line2.split()):\n",
        "              genre=str(sexe) \n",
        "              page = wptools.page(wikibase=word, lang=\"fr\")\n",
        "              page.get_wikidata()\n",
        "              page.get_parse()\n",
        "## Pour avoir toutes les informations:\n",
        "              try:\n",
        "                infobox=page.data['infobox']\n",
        "                nom = infobox.get(\"nom\")\n",
        "                date_naissance=infobox.get(\"date de naissance\")\n",
        "                annee_naissance_search = re.findall(r'\\b\\d{3,4}\\b', str(date_naissance)) ## Conserver uniquement les années\n",
        "                date_deces=infobox.get(\"date de décès\")\n",
        "                annee_deces_search = re.findall(r'\\b\\d{3,4}\\b', str(date_deces)) ### Conserver uniquement les années\n",
        "                lieu_naissance = infobox.get(\"lieu de naissance\") \n",
        "                lieu_naissance2 = re.sub(r'([()[\\]{}]|)', \"\",str(lieu_naissance))\n",
        "                lieu_naissance3 = re.sub(r'(<br>)', \"\",str(lieu_naissance2))\n",
        "                lieu_naissance_net = re.sub(r'({{-}})', \"\",str(lieu_naissance3))\n",
        "                lieu_deces=infobox.get(\"lieu de décès\")\n",
        "                lieu_deces2 = re.sub(r'([()[\\]{}]|)', \"\",str(lieu_deces))\n",
        "                lieu_deces3 = re.sub(r'(<br>)', \"\",str(lieu_deces2))\n",
        "                lieu_deces_net = re.sub(r'({{-}})', \"\",str(lieu_deces3))\n",
        "              except AttributeError as ar:\n",
        "                print(\"Ce n'est pas un personnage!\")\n",
        "              donnees[nom] = {\"Date de naissance\" : annee_naissance_search, \"Date de deces\" : annee_deces_search, \n",
        "             \"Lieu de naissance\" : lieu_naissance_net, \"Lieu de deces\" : lieu_deces_net, \"Genre\": genre}\n",
        "      \n",
        "        json.dump(donnees, fichier, ensure_ascii=False)\n",
        "\n",
        "# # Enregistrement de toutes les informations récupérées sous la forme d'un tableau Excel:\n",
        "df = pd.DataFrame(donnees)\n",
        "df2 = df.transpose()\n",
        "df2.to_excel('informations_personnages.xlsx')"
      ],
      "execution_count": null,
      "outputs": []
    },
    {
      "cell_type": "markdown",
      "metadata": {
        "id": "vMAX4sV5Kbp4"
      },
      "source": [
        "## Études statistiques sur des siècles de naissance de personnages\n",
        "\n",
        "- Cette cellule permet :\n",
        "  - d'afficher les siècles d'appartennance des personnages\n",
        "  - de chercher le nombre d'occurence d'un personnage par siècle.\n",
        "\n",
        "Les résultats s'affichent en dessous de la cellule."
      ]
    },
    {
      "cell_type": "code",
      "metadata": {
        "colab": {
          "base_uri": "https://localhost:8080/"
        },
        "id": "yc7qT0Gl0ZFh",
        "outputId": "a1911b51-1fe2-42f6-fe11-691f8bd0761a"
      },
      "source": [
        "keys = donnees[nom][\"Date de naissance\"]\n",
        "liste_annees = []\n",
        "fichier_json = \"/content/drive/MyDrive/Etude_personnages/donnees_personnages.json\"\n",
        "with open(fichier_json, \"r\") as f :\n",
        "  contenu_json = json.load(f)\n",
        "  pairs = contenu_json.items()\n",
        "  for key, value in pairs:\n",
        "      test_annees=value[\"Date de naissance\"]\n",
        "      liste_annees.append(test_annees)\n",
        "  print(liste_annees)\n",
        "\n",
        "def calcul_siecles(liste):\n",
        "  liste_siecles=[]\n",
        "  for annee in liste:\n",
        "    annee_net = re.sub(r'[\\[\\]\\']', \"\",str(annee))\n",
        "    try:\n",
        "      if (int(annee_net) <= 100):\n",
        "        siecle = \"1\"\n",
        "        liste_siecles.append(siecle)\n",
        "      elif (int(annee_net) % 100 == 0):\n",
        "        siecle=(annee_net // 100)\n",
        "        liste_siecles.append(siecle)\n",
        "      else:\n",
        "        siecle=(int(annee_net) // 100 + 1)\n",
        "        liste_siecles.append(siecle)\n",
        "    except ValueError as valerr:\n",
        "      pass\n",
        "  print(liste_siecles) ## Affiche les siècles correspondant aux années\n",
        "  nbr_siecle=liste_siecles.count(18) ### Entrer ici le siècle cherché\n",
        "  print(nbr_siecle)\n",
        "  occurrences_siecles = collections.Counter(liste_siecles) ## Calcul du nombre d'occurences de chaque siècle\n",
        " \n",
        "\n",
        "calcul_siecles(liste_annees)\n",
        "\n",
        "\n"
      ],
      "execution_count": null,
      "outputs": [
        {
          "output_type": "stream",
          "text": [
            "[[], ['1611'], ['1638'], ['1650'], [], [], ['100', '100', '102'], [], ['272'], ['395'], [], ['1769'], ['1769'], ['1759'], ['1786']]\n",
            "[17, 17, 17, 3, 4, 18, 18, 18, 18]\n",
            "4\n"
          ],
          "name": "stdout"
        }
      ]
    },
    {
      "cell_type": "markdown",
      "metadata": {
        "id": "Iq9EN31JLLHr"
      },
      "source": [
        "## Étude statistique sur le genre des personnages\n",
        "\n",
        "Cette cellule permet de connaître le nombre de personnages référencés comme féminins, masculins ou \"None\" (c'est-à-dire non référencé) ainsi que la proportion de chaque.\n",
        "\n",
        "Les résultats s'affichent en dessous de la cellule.\n",
        "\n"
      ]
    },
    {
      "cell_type": "code",
      "metadata": {
        "id": "eJBykV7PhJRj",
        "colab": {
          "base_uri": "https://localhost:8080/"
        },
        "outputId": "695a13d8-6d6d-458b-eb7f-b3d6df89e1ba"
      },
      "source": [
        "keys = donnees[nom][\"Genre\"]\n",
        "liste_des_genres = []\n",
        "fichier_json = \"/content/drive/MyDrive/etude_personnages/donnes_personnages.json\"\n",
        "with open(fichier_json, \"r\") as f :\n",
        "  contenu_json = json.load(f)\n",
        "  pairs = contenu_json.items()\n",
        "  for key, value in pairs:\n",
        "      test_genres=value[\"Genre\"]\n",
        "      liste_des_genres.append(test_genres)\n",
        "  print(liste_des_genres)\n",
        "\n",
        "def proportion_genres(liste):\n",
        "  c = Counter(liste)\n",
        "  print(c) ## Affiche le nombre masculin / fémnin / None\n",
        "  prop = [(i, c[i] / len(liste) * 100.0) for i in c]\n",
        "  print(prop) ## Affiche la proportion de chaque\n",
        "  \n",
        "proportion_genres(liste_des_genres)\n"
      ],
      "execution_count": null,
      "outputs": [
        {
          "output_type": "stream",
          "text": [
            "['None', 'masculin', 'masculin', 'masculin', 'None', 'None', 'masculin', 'masculin', 'masculin', 'masculin', 'None', 'masculin', 'masculin', 'masculin', 'masculin']\n",
            "Counter({'masculin': 11, 'None': 4})\n",
            "[('None', 26.666666666666668), ('masculin', 73.33333333333333)]\n"
          ],
          "name": "stdout"
        }
      ]
    }
  ]
}