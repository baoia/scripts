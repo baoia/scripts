{
  "nbformat": 4,
  "nbformat_minor": 0,
  "metadata": {
    "colab": {
      "name": "BaOIA_scraper_gallica_iiif.ipynb",
      "provenance": [],
      "collapsed_sections": []
    },
    "kernelspec": {
      "name": "python3",
      "display_name": "Python 3"
    }
  },
  "cells": [
    {
      "cell_type": "markdown",
      "metadata": {
        "id": "ydssWaF94ONk"
      },
      "source": [
        "## **Téléchargement automatique d'images en format IIIF issus de Gallica**\n",
        "\n",
        "Le format IIIF est utile pour avoir des documents de la meilleure qualité possible. Par exemple, une bonne résolution est nécessaire lors de la création de visualisations comme des cartes interactives.\n",
        "\n",
        "*Document d'entrée* : fichier .xlsx (type EXCEL) avec la liste des liens gallica ARK renvoyant aux images à télécharger. Les liens sont à indiquer dans le fichier sous leur forme complète : \"https://gallica.bnf.fr/ark:/12148/bpt6k6211324q\".\n",
        "\n",
        "*Documents de sortie* : dossier par identifiant ARK dans lequel se trouve toutes les images IIIF (une page = un jpg). Attention : certains documents sur Gallica ne possèdent pas d'images IIIF."
      ]
    },
    {
      "cell_type": "code",
      "metadata": {
        "id": "vNR74XCNs0eJ"
      },
      "source": [
        "#@markdown # Connecter le notebook à son compte Google Drive :\n",
        "#@markdown - Lancer la cellule\n",
        "#@markdown - Cliquer sur « Exécuter malgré tout » lors de l’apparition du message d’avertissement indiquant que le notebook n’a pas été créé par Google\n",
        "#@markdown - Cliquer sur « Se connecter à Google Drive » lors de l’apparition du second message d’avertissement pour donner l’autorisation au notebook d’accéder à vos fichiers Google Drive\n",
        "#@markdown - Choisir son compte Gmail puis cliquer sur « Autoriser »\n",
        "\n",
        "# Import des librairies nécessaires\n",
        "from openpyxl import load_workbook\n",
        "import pandas as pd\n",
        "import re\n",
        "import requests\n",
        "import shutil\n",
        "import os\n",
        "import xml.etree.ElementTree as ET\n",
        "import lxml\n",
        "from lxml import etree\n",
        "from re import match\n",
        "from bs4 import BeautifulSoup\n",
        "import urllib.request, urllib.error, urllib.parse\n",
        "from google.colab import drive\n",
        "from urllib.error import HTTPError\n",
        "\n",
        "drive.mount('/content/drive/')\n",
        "%cd /content/drive/My Drive/\n",
        "\n",
        "#@markdown ###Indiquer le chemin vers le dossier de travail sur le Google Drive (si le dossier n'existe pas, il sera créé lors du lancement de la cellule) :\n",
        "chemin_vers_le_dossier_de_travail = '/content/drive/My Drive/gallica/'#@param {type:\"string\"}\n",
        "\n",
        "if not os.path.exists(chemin_vers_le_dossier_de_travail):\n",
        "      os.makedirs(chemin_vers_le_dossier_de_travail)\n",
        "os.chdir(chemin_vers_le_dossier_de_travail)"
      ],
      "execution_count": null,
      "outputs": []
    },
    {
      "cell_type": "code",
      "metadata": {
        "id": "wUCh2QALPfWt"
      },
      "source": [
        "#@markdown # Récupération des images IIIF :\n",
        "\n",
        "#@markdown ###Indiquer le chemin vers le fichier Excel contenant les liens Gallica :\n",
        "chemin_fichier_liens_gallica = '/content/drive/My Drive/gallica/guides_cartes.xlsx'#@param {type:\"string\"}\n",
        "\n",
        "#@markdown ###Indiquer le nom de la feuille du fichier Excel où se trouve les liens Gallica (il s'agit des onglets en bas du document) :\n",
        "nom_feuille = 'Feuille 1' #@param {type:\"string\"}\n",
        "\n",
        "#@markdown ###Indiquer la lettre de la colonne où se trouve les liens Gallica :\n",
        "lettre_colonne = 'A' #@param {type:\"string\"}\n",
        "\n",
        "def recup(fichier_xlsx):\n",
        "  wb = load_workbook(fichier_xlsx)\n",
        "  ws = wb[nom_feuille]\n",
        "  column_id = ws[lettre_colonne]\n",
        "  id_list = [column_id[x].value for x in range(len(column_id))]\n",
        "  for e in id_list:\n",
        "    if e == None:\n",
        "      exit()\n",
        "    else:\n",
        "      match = re.findall(r\"b[a-z0-9]{4,}\", e)\n",
        "      for id in match:\n",
        "\n",
        "        # Récupération du nombre de vues du document sur Gallica pour permettre la récupération des images IIIF page par page\n",
        "        url = \"https://gallica.bnf.fr/services/OAIRecord?ark=\" + id\n",
        "        request = urllib.request.Request(url)\n",
        "        content = urllib.request.urlopen(request)\n",
        "        parse = BeautifulSoup(content, 'html.parser')\n",
        "        text = parse.find_all('body')\n",
        "        vues = parse.find_all('dc:format')\n",
        "        vues = vues[1]\n",
        "        nb_pages = int(re.sub(r'[^\\d]+', '', str(vues)))\n",
        "        listpage = range(1, nb_pages)\n",
        "\n",
        "        # Création d'un dossier par identifiant ARK pour le téléchargement des images IIIF\n",
        "        os.makedirs(id)\n",
        "        os.chdir(id)\n",
        "        \n",
        "        try:\n",
        "          for page in listpage:\n",
        "            filename = \"\".join([id, \"-IIIF\", \"_\", str(page), \".jpg\"])\n",
        "            url2= \"\".join([\"https://gallica.bnf.fr/iiif/ark:/12148/\", id, \"/f\", str(page),\"/full/full/0/native.jpg\"])\n",
        "            urllib.request.urlretrieve(url2, filename)\n",
        "          \n",
        "            response = requests.get(url2, stream=True)\n",
        "            with open(filename, 'wb') as out_file:\n",
        "              shutil.copyfileobj(response.raw, out_file)\n",
        "              del response\n",
        "        except HTTPError as tp:\n",
        "          print(\"Les images IIIF du document dont l'identifiant ARK est \" + id + \", n'ont pas pu être téléchargées.\")\n",
        "          os.chdir(chemin_vers_le_dossier_de_travail)\n",
        "          os.rmdir(id)\n",
        "\n",
        "recup(chemin_fichier_liens_gallica)"
      ],
      "execution_count": null,
      "outputs": []
    }
  ]
}