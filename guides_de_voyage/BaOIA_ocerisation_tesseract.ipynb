{
  "nbformat": 4,
  "nbformat_minor": 0,
  "metadata": {
    "colab": {
      "name": "BaOIA_ocerisation_tesseract.ipynb",
      "provenance": [],
      "collapsed_sections": []
    },
    "kernelspec": {
      "display_name": "Python 3",
      "name": "python3"
    }
  },
  "cells": [
    {
      "cell_type": "markdown",
      "metadata": {
        "id": "rrwAYhjRTncC"
      },
      "source": [
        "# Outil d'océrisation automatique de fichiers images\n",
        "Tesseract\n",
        "\n",
        "\n",
        "Cet outil est utile pour océriser des documents au format image, pour en extraire le texte au format numérique. Par exemple, on peu utiliser cet outil pour récupérer le texte d’un image d’une page d’un livre ou d’un journal, l’outil (Tesseract) reconnaît le texte et la langue. \n"
      ]
    },
    {
      "cell_type": "code",
      "metadata": {
        "id": "eQPOh64hK71C",
        "cellView": "form"
      },
      "source": [
        "#@title Installation des bibliothèques nécessaires et connexion à un compte Google Drive.\n",
        "\n",
        "''' \n",
        "Google Colab notebook.\n",
        "Python == 3.7.11\n",
        "\n",
        "BaOIA - La Contemporaine - Université de Nanterre\n",
        "'''\n",
        "\n",
        "\n",
        "## Installation des bibliothèques et connexion au compte Google Drive\n",
        "\n",
        "\n",
        "nom_dossier_travail = 'ocerisation_corpus'#@param {type:\"string\"}\n",
        "\n",
        "!sudo apt install tesseract-ocr\n",
        "!pip install pytesseract==0.3.7\n",
        "import pytesseract\n",
        "from pytesseract import Output\n",
        "import cv2\n",
        "import glob\n",
        "from google.colab.patches import cv2_imshow\n",
        "import shutil\n",
        "import os\n",
        "import random\n",
        "try:\n",
        " from PIL import Image\n",
        "except ImportError:\n",
        " import Image\n",
        "from google.colab import files\n",
        "from google.colab import drive\n",
        "\n",
        "drive.mount('/content/drive/')\n",
        "chemin_dossier = ''.join('/content/drive/MyDrive/'+nom_dossier_travail)\n",
        "if not os.path.exists(chemin_dossier):\n",
        "  os.mkdir(chemin_dossier)\n",
        "os.chdir(chemin_dossier)"
      ],
      "execution_count": null,
      "outputs": []
    },
    {
      "cell_type": "code",
      "metadata": {
        "id": "LXI69UDHQjyX",
        "cellView": "form"
      },
      "source": [
        "\n",
        "chemin_vers_le_dossier_d_images = '/content/drive/MyDrive/ocerisation_corpus/corpus_format_image'#@param {type:\"string\"}\n",
        "\n",
        "\n",
        "\n",
        "#@markdown \n",
        "telecharger_format_TXT = True #@param {type:\"boolean\"}\n",
        "#@markdown \n",
        "telecharger_format_HOCR_XML = True #@param {type:\"boolean\"}\n",
        "\n",
        "if telecharger_format_TXT == True:\n",
        "  os.chdir(chemin_dossier)\n",
        "  if not os.path.exists('txt'):\n",
        "    os.mkdir('txt')\n",
        "  os.chdir('txt')\n",
        "  chemin_glob = ''.join(chemin_vers_le_dossier_d_images+'/*.jpg')\n",
        "  print(chemin_glob)\n",
        "  for image in glob.glob(chemin_glob):\n",
        "    nom_doc = os.path.basename(image)\n",
        "    image = Image.open(image)\n",
        "    extractedInformation = pytesseract.image_to_string(image)\n",
        "    nom_ocr = ''.join(nom_doc[:-4] + \"_ocr.txt\")\n",
        "    with open(nom_ocr, 'w') as f:\n",
        "      f.write(extractedInformation)\n",
        "\n",
        "\n",
        "if telecharger_format_HOCR_XML == True:\n",
        "  os.chdir(chemin_dossier)\n",
        "  if not os.path.exists('hocr'):\n",
        "    os.mkdir('hocr')\n",
        "  os.chdir('hocr')\n",
        "\n",
        "  chemin_glob = ''.join(chemin_vers_le_dossier_d_images+'/*.jpg')\n",
        "  for image in glob.glob(chemin_glob):\n",
        "    nom_doc = os.path.basename(image)\n",
        "    image = Image.open(image)\n",
        "    nom_hocr = ''.join(nom_doc[:-4] + \"_hocr.xml\")\n",
        "    hocr = pytesseract.image_to_pdf_or_hocr(image, extension='hocr')\n",
        "    with open(nom_hocr, 'wb') as f:\n",
        "      f.write(hocr)\n",
        "\n"
      ],
      "execution_count": null,
      "outputs": []
    }
  ]
}