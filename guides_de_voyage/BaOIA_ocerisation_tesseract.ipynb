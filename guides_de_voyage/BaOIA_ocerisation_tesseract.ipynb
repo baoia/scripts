{
  "nbformat": 4,
  "nbformat_minor": 0,
  "metadata": {
    "colab": {
      "name": "BaOIA_ocerisation_tesseract.ipynb",
      "provenance": [],
      "collapsed_sections": []
    },
    "kernelspec": {
      "display_name": "Python 3",
      "name": "python3"
    }
  },
  "cells": [
    {
      "cell_type": "markdown",
      "metadata": {
        "id": "rrwAYhjRTncC"
      },
      "source": [
        "# **Outil d'océrisation automatique de fichiers images**\n",
        "\n",
        "Cet outil permet d'océriser des documents au format image (JPG) afin d'en extraire le texte au format numérique. Par exemple, on peut utiliser cet outil pour récupérer le texte d’un image d’une page d’un livre ou d’un journal. Cet outil utilise le logiciel de reconnaissance optique de caractères Tesseract qui reconnaît le texte et la langue.\n",
        "\n",
        "*Documents d'entrée* : corpus d'images sous format JPG.\n",
        "\n",
        "*Documents de sortie* : deux dossiers, l'un contenant les fichiers textes des images (TXT) et l'autre contenant les fichiers HOCR (XML) avec la position du texte sur les images."
      ]
    },
    {
      "cell_type": "code",
      "metadata": {
        "id": "eQPOh64hK71C",
        "cellView": "form"
      },
      "source": [
        "#@markdown # Connexion du notebook à son compte Google Drive et signalement du dossier de travail :\n",
        "\n",
        "''' \n",
        "Google Colab notebook.\n",
        "Python == 3.7.11\n",
        "\n",
        "BaOIA - La Contemporaine - Université de Nanterre\n",
        "'''\n",
        "## Installation des bibliothèques nécessaires à l'exécution du script et connexion au compte Google Drive\n",
        "\n",
        "#@markdown - Lancer la cellule\n",
        "#@markdown - Cliquer sur « Exécuter malgré tout » lors de l’apparition du message d’avertissement indiquant que le notebook n’a pas été créé par Google\n",
        "#@markdown - Cliquer sur « Se connecter à Google Drive » lors de l’apparition du second message d’avertissement pour donner l’autorisation au notebook d’accéder à vos fichiers Google Drive\n",
        "#@markdown - Choisir son compte Gmail puis cliquer sur « Autoriser »\n",
        "\n",
        "#@markdown Indiquer le chemin vers le dossier de travail sur le Google Drive (si le dossier n'existe pas encore, il sera créé lors de l'exécution de la cellule):\n",
        "chemin_vers_dossier_travail = '/content/drive/MyDrive/ocerisation_corpus/'#@param {type:\"string\"}\n",
        "\n",
        "!sudo apt install tesseract-ocr\n",
        "!pip install pytesseract==0.3.7\n",
        "import pytesseract\n",
        "from pytesseract import Output\n",
        "import cv2\n",
        "import glob\n",
        "from google.colab.patches import cv2_imshow\n",
        "import shutil\n",
        "import os\n",
        "import random\n",
        "try:\n",
        " from PIL import Image\n",
        "except ImportError:\n",
        " import Image\n",
        "from google.colab import files\n",
        "from google.colab import drive\n",
        "\n",
        "drive.mount('/content/drive/')\n",
        "%cd /content/drive/My Drive/\n",
        "if not os.path.exists(chemin_vers_dossier_travail):\n",
        "  os.mkdir(chemin_vers_dossier_travail)\n",
        "os.chdir(chemin_vers_dossier_travail)"
      ],
      "execution_count": null,
      "outputs": []
    },
    {
      "cell_type": "code",
      "metadata": {
        "id": "LXI69UDHQjyX",
        "cellView": "form"
      },
      "source": [
        "#@markdown # Accès au corpus d'images :\n",
        "\n",
        "#@markdown Indiquer le chemin vers le dossier d'images à océriser (il doit se trouver à l'intérieur du dossier de travail cité plus haut):\n",
        "chemin_vers_dossier_images = '/content/drive/MyDrive/ocerisation_corpus/corpus_format_image/'#@param {type:\"string\"}\n",
        "\n",
        "#@markdown Choisir les formats de fichiers à télécharger :\n",
        "telecharger_format_TXT = True #@param {type:\"boolean\"}\n",
        "telecharger_format_HOCR_XML = True #@param {type:\"boolean\"}\n",
        "\n",
        "if telecharger_format_TXT == True:\n",
        "  os.chdir(chemin_vers_dossier_travail)\n",
        "  if not os.path.exists('txt'):\n",
        "    os.mkdir('txt')\n",
        "  os.chdir('txt')\n",
        "  chemin_glob = ''.join(chemin_vers_dossier_images+'/*.jpg')\n",
        "  print(chemin_glob)\n",
        "  for image in glob.glob(chemin_glob):\n",
        "    nom_doc = os.path.basename(image)\n",
        "    image = Image.open(image)\n",
        "    extractedInformation = pytesseract.image_to_string(image)\n",
        "    nom_ocr = ''.join(nom_doc[:-4] + \"_ocr.txt\")\n",
        "    with open(nom_ocr, 'w') as f:\n",
        "      f.write(extractedInformation)\n",
        "\n",
        "\n",
        "if telecharger_format_HOCR_XML == True:\n",
        "  os.chdir(chemin_vers_dossier_travail)\n",
        "  if not os.path.exists('hocr'):\n",
        "    os.mkdir('hocr')\n",
        "  os.chdir('hocr')\n",
        "\n",
        "  chemin_glob = ''.join(chemin__dossier_images+'/*.jpg')\n",
        "  for image in glob.glob(chemin_glob):\n",
        "    nom_doc = os.path.basename(image)\n",
        "    image = Image.open(image)\n",
        "    nom_hocr = ''.join(nom_doc[:-4] + \"_hocr.xml\")\n",
        "    hocr = pytesseract.image_to_pdf_or_hocr(image, extension='hocr')\n",
        "    with open(nom_hocr, 'wb') as f:\n",
        "      f.write(hocr)\n",
        "\n"
      ],
      "execution_count": null,
      "outputs": []
    }
  ]
}
